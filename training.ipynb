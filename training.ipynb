{
 "cells": [
  {
   "cell_type": "code",
   "execution_count": 1,
   "id": "955608bc",
   "metadata": {},
   "outputs": [],
   "source": [
    "import torch as pt\n",
    "from torch import nn\n",
    "import torch.nn.functional as F\n",
    "\n",
    "from pyconll import iter_from_file\n",
    "\n",
    "from tokenizer import train_mopiece, MOPiece\n",
    "\n",
    "import regex as re\n",
    "\n",
    "from word_autoencoder import WordEncoder, WordDecoder\n",
    "from dependency_parser import DependencyParser\n",
    "from moplm import Transformer, MOPLM\n",
    "\n",
    "from tqdm.notebook import trange, tqdm\n",
    "\n",
    "device = ('cuda' if pt.cuda.is_available() else 'mps' if pt.backends.mps.is_available() else 'cpu')\n",
    "\n",
    "with open(r'data\\morphynet\\prefixes.csv') as file:\n",
    "    prefixes = [s[:-1] for s in file.readlines()[1:]]\n",
    "with open(r'data\\morphynet\\suffixes.csv') as file:\n",
    "    suffixes = [s[:-1] for s in file.readlines()[1:]]"
   ]
  },
  {
   "cell_type": "markdown",
   "id": "f9e87877",
   "metadata": {},
   "source": [
    "#### Phase 1"
   ]
  },
  {
   "cell_type": "code",
   "execution_count": 3,
   "id": "3dd98798",
   "metadata": {},
   "outputs": [],
   "source": [
    "def use_tree(tree, reg):\n",
    "    reg_words = [word for word in reg.split(tree.text) if word != ' ' and word != '']\n",
    "    tree_words = []\n",
    "    for word in tree:\n",
    "        if word._form is not None and word.head is not None:\n",
    "            word_s = reg.sub('', word._form)\n",
    "            if word_s:\n",
    "                tree_words.append(word_s)\n",
    "    if reg_words == tree_words:\n",
    "        return True\n",
    "    if len(reg_words) == len(tree_words):\n",
    "        nts_match = True\n",
    "        for r, t in zip(reg_words, tree_words):\n",
    "            if r != t and r[-1] != 'n' and t != 'nt':\n",
    "                nts_match = False\n",
    "                break\n",
    "        return nts_match\n",
    "    \n",
    "    \n",
    "def train_tree_tokenizer(directory_path, filepath, prefixes, suffixes, spm_vocab_size: int, spm_model_type: str='bpe', min_stem: int=3):\n",
    "    words = []\n",
    "    reg = re.compile(r'[^\\p{L}\\p{M}\\p{N}\\s]+|\\s')\n",
    "    for tree in iter_from_file(filepath):\n",
    "        if use_tree(tree, reg):\n",
    "            for word in tree:\n",
    "                if word._form is not None and word.head is not None:\n",
    "                    word_s = reg.sub('', word._form)\n",
    "                    if word_s:\n",
    "                        words.append(word_s)\n",
    "    train_mopiece(directory_path, words, prefixes, suffixes, spm_vocab_size, spm_model_type, min_stem, False)\n",
    "\n",
    "\n",
    "class TreeDataset(pt.utils.data.Dataset):\n",
    "    def __init__(self, filepath, mopiece):\n",
    "        reg = re.compile(r'[^\\p{L}\\p{M}\\p{N}\\s]+|\\s')\n",
    "        self.labels = []\n",
    "        self.prefix_ids = []\n",
    "        self.spm_ids = []\n",
    "        self.suffix_ids = []\n",
    "        bos_id = mopiece.bos_id()\n",
    "        eos_id = mopiece.eos_id()\n",
    "        for tree in iter_from_file(filepath):\n",
    "            if use_tree(tree, reg):\n",
    "                labels = []\n",
    "                prefix_ids = []\n",
    "                spm_ids = []\n",
    "                suffix_ids = []\n",
    "                skipped_ids = []\n",
    "                for word in tree:\n",
    "                    if word._form is not None and word.head is not None:\n",
    "                        word_s = reg.sub('', word._form)\n",
    "                        if word_s:\n",
    "                            word_prefix_ids, word_spm_ids, word_suffix_ids = mopiece.encode_word(word_s)\n",
    "                            prefix_ids.append([bos_id] + word_prefix_ids + [eos_id])\n",
    "                            spm_ids.append([bos_id] + word_spm_ids + [eos_id])\n",
    "                            suffix_ids.append([bos_id] + word_suffix_ids + [eos_id])\n",
    "                            labels.append(int(word.head))\n",
    "                            continue\n",
    "                    if '-' not in word.id and '.' not in word.id:\n",
    "                        skipped_ids.append(int(word.id))\n",
    "                self.prefix_ids.append(prefix_ids)\n",
    "                self.spm_ids.append(spm_ids)\n",
    "                self.suffix_ids.append(suffix_ids)\n",
    "                for i, label in enumerate(labels):\n",
    "                    labels[i] -= sum([label >= j for j in skipped_ids])\n",
    "                self.labels.append(pt.tensor(labels, dtype=pt.long))\n",
    "    \n",
    "    def __len__(self):\n",
    "        return len(self.labels)\n",
    "\n",
    "    def __getitem__(self, index):\n",
    "        return self.prefix_ids[index], self.spm_ids[index], self.suffix_ids[index], self.labels[index]"
   ]
  },
  {
   "cell_type": "code",
   "execution_count": null,
   "id": "4366ba11",
   "metadata": {},
   "outputs": [],
   "source": [
    "train_tree_tokenizer('____tree_tokenizer', 'data/treebank/en_ewt-ud-train.conllu', prefixes, suffixes, 3000)"
   ]
  },
  {
   "cell_type": "code",
   "execution_count": null,
   "id": "bd5fd087",
   "metadata": {},
   "outputs": [],
   "source": [
    "tree_mopiece = MOPiece('____tree_tokenizer')\n",
    "train_dset = TreeDataset(r'data\\treebank\\en_ewt-ud-train.conllu', tree_mopiece)\n",
    "test_dset = TreeDataset(r'data\\treebank\\en_ewt-ud-test.conllu', tree_mopiece)"
   ]
  },
  {
   "cell_type": "code",
   "execution_count": null,
   "id": "a4a80b7f",
   "metadata": {},
   "outputs": [],
   "source": [
    "pad_id = tree_mopiece.pad_id()\n",
    "\n",
    "def collate_fn(batch):\n",
    "    def handle_component(i):\n",
    "        max_len = max_sublen = 0\n",
    "        for tup in batch:\n",
    "            seq = tup[i]\n",
    "            max_len = max(max_len, len(seq))\n",
    "            for subseq in seq:\n",
    "                max_sublen = max(max_sublen, len(subseq))\n",
    "        tensor = []\n",
    "        for tup in batch:\n",
    "            seq = tup[i]\n",
    "            tensor_seq = []\n",
    "            for subseq in seq:\n",
    "                tensor_seq.append(subseq + [pad_id] * (max_sublen - len(subseq)))\n",
    "            for _ in range(max_len - len(seq)):\n",
    "                tensor_seq.append([pad_id] * max_sublen)\n",
    "            tensor.append(tensor_seq)\n",
    "        return pt.tensor(tensor, dtype=pt.long)\n",
    "\n",
    "    return handle_component(0), handle_component(1), handle_component(2), nn.utils.rnn.pad_sequence([labels for prefix, spm, suffix, labels in batch], batch_first=True, padding_value=-1)"
   ]
  },
  {
   "cell_type": "code",
   "execution_count": 5,
   "id": "0f68df0c",
   "metadata": {},
   "outputs": [],
   "source": [
    "encoder = WordEncoder(tree_mopiece.vocab_size(), tree_mopiece.pad_id(), 256, ffn_hidden_dim=512, expansion_factor=4, spm_layers=6, suffix_depth=4, prefix_depth=4).to(device)\n",
    "parser = DependencyParser(256, dropout=.1).to(device)"
   ]
  },
  {
   "cell_type": "code",
   "execution_count": null,
   "id": "12ba431a",
   "metadata": {},
   "outputs": [
    {
     "data": {
      "application/vnd.jupyter.widget-view+json": {
       "model_id": "daad716c329a49d88d6f146ddfaa6b4a",
       "version_major": 2,
       "version_minor": 0
      },
      "text/plain": [
       "Epoch:   0%|          | 0/30 [00:00<?, ?it/s]"
      ]
     },
     "metadata": {},
     "output_type": "display_data"
    },
    {
     "data": {
      "application/vnd.jupyter.widget-view+json": {
       "model_id": "a84067bd3e2646a9b9c90e12a600bebf",
       "version_major": 2,
       "version_minor": 0
      },
      "text/plain": [
       "Training:   0%|          | 0/1359 [00:00<?, ?it/s]"
      ]
     },
     "metadata": {},
     "output_type": "display_data"
    },
    {
     "data": {
      "application/vnd.jupyter.widget-view+json": {
       "model_id": "2dae88409a0b47f590f2a74023138b5f",
       "version_major": 2,
       "version_minor": 0
      },
      "text/plain": [
       "Evaluating:   0%|          | 0/222 [00:00<?, ?it/s]"
      ]
     },
     "metadata": {},
     "output_type": "display_data"
    },
    {
     "data": {
      "application/vnd.jupyter.widget-view+json": {
       "model_id": "d46bb78009564955b5f0a79819d322e9",
       "version_major": 2,
       "version_minor": 0
      },
      "text/plain": [
       "Training:   0%|          | 0/1359 [00:00<?, ?it/s]"
      ]
     },
     "metadata": {},
     "output_type": "display_data"
    },
    {
     "data": {
      "application/vnd.jupyter.widget-view+json": {
       "model_id": "caf2f588ee74478caf9d374b337e26c7",
       "version_major": 2,
       "version_minor": 0
      },
      "text/plain": [
       "Evaluating:   0%|          | 0/222 [00:00<?, ?it/s]"
      ]
     },
     "metadata": {},
     "output_type": "display_data"
    },
    {
     "data": {
      "application/vnd.jupyter.widget-view+json": {
       "model_id": "d2309731b64d46719fe20bcc2bf161ca",
       "version_major": 2,
       "version_minor": 0
      },
      "text/plain": [
       "Training:   0%|          | 0/1359 [00:00<?, ?it/s]"
      ]
     },
     "metadata": {},
     "output_type": "display_data"
    },
    {
     "data": {
      "application/vnd.jupyter.widget-view+json": {
       "model_id": "4f35150713d049e5ab097c2664dea681",
       "version_major": 2,
       "version_minor": 0
      },
      "text/plain": [
       "Evaluating:   0%|          | 0/222 [00:00<?, ?it/s]"
      ]
     },
     "metadata": {},
     "output_type": "display_data"
    },
    {
     "data": {
      "application/vnd.jupyter.widget-view+json": {
       "model_id": "815e5395c3a54402967e826341cfdfbc",
       "version_major": 2,
       "version_minor": 0
      },
      "text/plain": [
       "Training:   0%|          | 0/1359 [00:00<?, ?it/s]"
      ]
     },
     "metadata": {},
     "output_type": "display_data"
    },
    {
     "data": {
      "application/vnd.jupyter.widget-view+json": {
       "model_id": "52db1390efeb488390c91fdd1973ab03",
       "version_major": 2,
       "version_minor": 0
      },
      "text/plain": [
       "Evaluating:   0%|          | 0/222 [00:00<?, ?it/s]"
      ]
     },
     "metadata": {},
     "output_type": "display_data"
    },
    {
     "data": {
      "application/vnd.jupyter.widget-view+json": {
       "model_id": "85fc6f6fed984ff6b7b7333b0bce2ca3",
       "version_major": 2,
       "version_minor": 0
      },
      "text/plain": [
       "Training:   0%|          | 0/1359 [00:00<?, ?it/s]"
      ]
     },
     "metadata": {},
     "output_type": "display_data"
    },
    {
     "data": {
      "application/vnd.jupyter.widget-view+json": {
       "model_id": "b24560b47e584153abc01c50a0c7397d",
       "version_major": 2,
       "version_minor": 0
      },
      "text/plain": [
       "Evaluating:   0%|          | 0/222 [00:00<?, ?it/s]"
      ]
     },
     "metadata": {},
     "output_type": "display_data"
    },
    {
     "data": {
      "application/vnd.jupyter.widget-view+json": {
       "model_id": "34c67841fbaa4565962f9266eaf7d182",
       "version_major": 2,
       "version_minor": 0
      },
      "text/plain": [
       "Training:   0%|          | 0/1359 [00:00<?, ?it/s]"
      ]
     },
     "metadata": {},
     "output_type": "display_data"
    },
    {
     "data": {
      "application/vnd.jupyter.widget-view+json": {
       "model_id": "bc0ba460a3ed44fab5422ab2ce8dbafe",
       "version_major": 2,
       "version_minor": 0
      },
      "text/plain": [
       "Evaluating:   0%|          | 0/222 [00:00<?, ?it/s]"
      ]
     },
     "metadata": {},
     "output_type": "display_data"
    },
    {
     "data": {
      "application/vnd.jupyter.widget-view+json": {
       "model_id": "21a48d672ab54fd1bbb9bae4f97b5184",
       "version_major": 2,
       "version_minor": 0
      },
      "text/plain": [
       "Training:   0%|          | 0/1359 [00:00<?, ?it/s]"
      ]
     },
     "metadata": {},
     "output_type": "display_data"
    },
    {
     "data": {
      "application/vnd.jupyter.widget-view+json": {
       "model_id": "6e8d13712b4f4c7f9c36b3cd95b7ce91",
       "version_major": 2,
       "version_minor": 0
      },
      "text/plain": [
       "Evaluating:   0%|          | 0/222 [00:00<?, ?it/s]"
      ]
     },
     "metadata": {},
     "output_type": "display_data"
    },
    {
     "data": {
      "application/vnd.jupyter.widget-view+json": {
       "model_id": "970879179ed54391a6b3a7af55381231",
       "version_major": 2,
       "version_minor": 0
      },
      "text/plain": [
       "Training:   0%|          | 0/1359 [00:00<?, ?it/s]"
      ]
     },
     "metadata": {},
     "output_type": "display_data"
    },
    {
     "data": {
      "application/vnd.jupyter.widget-view+json": {
       "model_id": "be1ca7dd09534f048a3d659497493511",
       "version_major": 2,
       "version_minor": 0
      },
      "text/plain": [
       "Evaluating:   0%|          | 0/222 [00:00<?, ?it/s]"
      ]
     },
     "metadata": {},
     "output_type": "display_data"
    },
    {
     "data": {
      "application/vnd.jupyter.widget-view+json": {
       "model_id": "8aeed73efb9943f0bc63c3bcfb858718",
       "version_major": 2,
       "version_minor": 0
      },
      "text/plain": [
       "Training:   0%|          | 0/1359 [00:00<?, ?it/s]"
      ]
     },
     "metadata": {},
     "output_type": "display_data"
    },
    {
     "data": {
      "application/vnd.jupyter.widget-view+json": {
       "model_id": "cca4f97231a14e2db665c2270440dd41",
       "version_major": 2,
       "version_minor": 0
      },
      "text/plain": [
       "Evaluating:   0%|          | 0/222 [00:00<?, ?it/s]"
      ]
     },
     "metadata": {},
     "output_type": "display_data"
    },
    {
     "data": {
      "application/vnd.jupyter.widget-view+json": {
       "model_id": "a0dd4d45eb64470e8c73def5c789413b",
       "version_major": 2,
       "version_minor": 0
      },
      "text/plain": [
       "Training:   0%|          | 0/1359 [00:00<?, ?it/s]"
      ]
     },
     "metadata": {},
     "output_type": "display_data"
    },
    {
     "data": {
      "application/vnd.jupyter.widget-view+json": {
       "model_id": "5271612280de4d7a9819f591f8536c86",
       "version_major": 2,
       "version_minor": 0
      },
      "text/plain": [
       "Evaluating:   0%|          | 0/222 [00:00<?, ?it/s]"
      ]
     },
     "metadata": {},
     "output_type": "display_data"
    },
    {
     "data": {
      "application/vnd.jupyter.widget-view+json": {
       "model_id": "821a33ba1b7847699ec3c3b31463ee7e",
       "version_major": 2,
       "version_minor": 0
      },
      "text/plain": [
       "Training:   0%|          | 0/1359 [00:00<?, ?it/s]"
      ]
     },
     "metadata": {},
     "output_type": "display_data"
    },
    {
     "data": {
      "application/vnd.jupyter.widget-view+json": {
       "model_id": "59fc16fe24ce4498aafa82937111ebe1",
       "version_major": 2,
       "version_minor": 0
      },
      "text/plain": [
       "Evaluating:   0%|          | 0/222 [00:00<?, ?it/s]"
      ]
     },
     "metadata": {},
     "output_type": "display_data"
    },
    {
     "data": {
      "application/vnd.jupyter.widget-view+json": {
       "model_id": "eec0c2e9128949fa83494e9ea7203a3e",
       "version_major": 2,
       "version_minor": 0
      },
      "text/plain": [
       "Training:   0%|          | 0/1359 [00:00<?, ?it/s]"
      ]
     },
     "metadata": {},
     "output_type": "display_data"
    },
    {
     "data": {
      "application/vnd.jupyter.widget-view+json": {
       "model_id": "9ad70b7455014999a3294b233ae3a235",
       "version_major": 2,
       "version_minor": 0
      },
      "text/plain": [
       "Evaluating:   0%|          | 0/222 [00:00<?, ?it/s]"
      ]
     },
     "metadata": {},
     "output_type": "display_data"
    },
    {
     "data": {
      "application/vnd.jupyter.widget-view+json": {
       "model_id": "ae71d73fbfcb430c84a5d0f2f4c6b295",
       "version_major": 2,
       "version_minor": 0
      },
      "text/plain": [
       "Training:   0%|          | 0/1359 [00:00<?, ?it/s]"
      ]
     },
     "metadata": {},
     "output_type": "display_data"
    },
    {
     "data": {
      "application/vnd.jupyter.widget-view+json": {
       "model_id": "2c373e62702f4e03a3b3c1b9ec6b7b3b",
       "version_major": 2,
       "version_minor": 0
      },
      "text/plain": [
       "Evaluating:   0%|          | 0/222 [00:00<?, ?it/s]"
      ]
     },
     "metadata": {},
     "output_type": "display_data"
    },
    {
     "data": {
      "application/vnd.jupyter.widget-view+json": {
       "model_id": "3580c6ea10344c52a797c5671c31b822",
       "version_major": 2,
       "version_minor": 0
      },
      "text/plain": [
       "Training:   0%|          | 0/1359 [00:00<?, ?it/s]"
      ]
     },
     "metadata": {},
     "output_type": "display_data"
    },
    {
     "data": {
      "application/vnd.jupyter.widget-view+json": {
       "model_id": "9ae91ec4e2b94c1d923c53a4b7a795b1",
       "version_major": 2,
       "version_minor": 0
      },
      "text/plain": [
       "Evaluating:   0%|          | 0/222 [00:00<?, ?it/s]"
      ]
     },
     "metadata": {},
     "output_type": "display_data"
    },
    {
     "data": {
      "application/vnd.jupyter.widget-view+json": {
       "model_id": "efdf4e2b4abf41429973284afb910679",
       "version_major": 2,
       "version_minor": 0
      },
      "text/plain": [
       "Training:   0%|          | 0/1359 [00:00<?, ?it/s]"
      ]
     },
     "metadata": {},
     "output_type": "display_data"
    },
    {
     "data": {
      "application/vnd.jupyter.widget-view+json": {
       "model_id": "0a46931057e44719897d518ca42ae292",
       "version_major": 2,
       "version_minor": 0
      },
      "text/plain": [
       "Evaluating:   0%|          | 0/222 [00:00<?, ?it/s]"
      ]
     },
     "metadata": {},
     "output_type": "display_data"
    },
    {
     "data": {
      "application/vnd.jupyter.widget-view+json": {
       "model_id": "6f507467024d4d358d8c7d9e80fe1a18",
       "version_major": 2,
       "version_minor": 0
      },
      "text/plain": [
       "Training:   0%|          | 0/1359 [00:00<?, ?it/s]"
      ]
     },
     "metadata": {},
     "output_type": "display_data"
    },
    {
     "data": {
      "application/vnd.jupyter.widget-view+json": {
       "model_id": "7d4bea443eb542aeb1eee81f37c03a09",
       "version_major": 2,
       "version_minor": 0
      },
      "text/plain": [
       "Evaluating:   0%|          | 0/222 [00:00<?, ?it/s]"
      ]
     },
     "metadata": {},
     "output_type": "display_data"
    },
    {
     "data": {
      "application/vnd.jupyter.widget-view+json": {
       "model_id": "a0899f2211c64ebeaebdbb093d4d896d",
       "version_major": 2,
       "version_minor": 0
      },
      "text/plain": [
       "Training:   0%|          | 0/1359 [00:00<?, ?it/s]"
      ]
     },
     "metadata": {},
     "output_type": "display_data"
    },
    {
     "data": {
      "application/vnd.jupyter.widget-view+json": {
       "model_id": "82a6410655c04b6bbc9c0898d534fb76",
       "version_major": 2,
       "version_minor": 0
      },
      "text/plain": [
       "Evaluating:   0%|          | 0/222 [00:00<?, ?it/s]"
      ]
     },
     "metadata": {},
     "output_type": "display_data"
    },
    {
     "data": {
      "application/vnd.jupyter.widget-view+json": {
       "model_id": "3515de0c3ba6469d92e93c71efe2fc3d",
       "version_major": 2,
       "version_minor": 0
      },
      "text/plain": [
       "Training:   0%|          | 0/1359 [00:00<?, ?it/s]"
      ]
     },
     "metadata": {},
     "output_type": "display_data"
    },
    {
     "data": {
      "application/vnd.jupyter.widget-view+json": {
       "model_id": "4437274ae8564d869f960b39cef2e68e",
       "version_major": 2,
       "version_minor": 0
      },
      "text/plain": [
       "Evaluating:   0%|          | 0/222 [00:00<?, ?it/s]"
      ]
     },
     "metadata": {},
     "output_type": "display_data"
    },
    {
     "data": {
      "application/vnd.jupyter.widget-view+json": {
       "model_id": "507938090fed40559c89df10939ff933",
       "version_major": 2,
       "version_minor": 0
      },
      "text/plain": [
       "Training:   0%|          | 0/1359 [00:00<?, ?it/s]"
      ]
     },
     "metadata": {},
     "output_type": "display_data"
    },
    {
     "data": {
      "application/vnd.jupyter.widget-view+json": {
       "model_id": "0872939c189a4c28a926d9f55a90443c",
       "version_major": 2,
       "version_minor": 0
      },
      "text/plain": [
       "Evaluating:   0%|          | 0/222 [00:00<?, ?it/s]"
      ]
     },
     "metadata": {},
     "output_type": "display_data"
    },
    {
     "data": {
      "application/vnd.jupyter.widget-view+json": {
       "model_id": "bc3a110276c9423cb677b4622cacefed",
       "version_major": 2,
       "version_minor": 0
      },
      "text/plain": [
       "Training:   0%|          | 0/1359 [00:00<?, ?it/s]"
      ]
     },
     "metadata": {},
     "output_type": "display_data"
    },
    {
     "data": {
      "application/vnd.jupyter.widget-view+json": {
       "model_id": "df715496b8754a96a289ff656f2c6060",
       "version_major": 2,
       "version_minor": 0
      },
      "text/plain": [
       "Evaluating:   0%|          | 0/222 [00:00<?, ?it/s]"
      ]
     },
     "metadata": {},
     "output_type": "display_data"
    },
    {
     "data": {
      "application/vnd.jupyter.widget-view+json": {
       "model_id": "95f68c38e94048f785ac1715898bd12a",
       "version_major": 2,
       "version_minor": 0
      },
      "text/plain": [
       "Training:   0%|          | 0/1359 [00:00<?, ?it/s]"
      ]
     },
     "metadata": {},
     "output_type": "display_data"
    },
    {
     "data": {
      "application/vnd.jupyter.widget-view+json": {
       "model_id": "e275a54a4b784111845feabd1eeaa30e",
       "version_major": 2,
       "version_minor": 0
      },
      "text/plain": [
       "Evaluating:   0%|          | 0/222 [00:00<?, ?it/s]"
      ]
     },
     "metadata": {},
     "output_type": "display_data"
    },
    {
     "data": {
      "application/vnd.jupyter.widget-view+json": {
       "model_id": "48befaac200542f0a016dc7f43d81297",
       "version_major": 2,
       "version_minor": 0
      },
      "text/plain": [
       "Training:   0%|          | 0/1359 [00:00<?, ?it/s]"
      ]
     },
     "metadata": {},
     "output_type": "display_data"
    },
    {
     "data": {
      "application/vnd.jupyter.widget-view+json": {
       "model_id": "05958ded78c349c79403ecf747632d72",
       "version_major": 2,
       "version_minor": 0
      },
      "text/plain": [
       "Evaluating:   0%|          | 0/222 [00:00<?, ?it/s]"
      ]
     },
     "metadata": {},
     "output_type": "display_data"
    },
    {
     "data": {
      "application/vnd.jupyter.widget-view+json": {
       "model_id": "4ff2f8930fcc4133866207a9a1feb840",
       "version_major": 2,
       "version_minor": 0
      },
      "text/plain": [
       "Training:   0%|          | 0/1359 [00:00<?, ?it/s]"
      ]
     },
     "metadata": {},
     "output_type": "display_data"
    },
    {
     "data": {
      "application/vnd.jupyter.widget-view+json": {
       "model_id": "09ce73d11aab43fb9a5fd59f6d542a98",
       "version_major": 2,
       "version_minor": 0
      },
      "text/plain": [
       "Evaluating:   0%|          | 0/222 [00:00<?, ?it/s]"
      ]
     },
     "metadata": {},
     "output_type": "display_data"
    },
    {
     "data": {
      "application/vnd.jupyter.widget-view+json": {
       "model_id": "79a08b17cbcb49d78d88701fb3a5edf0",
       "version_major": 2,
       "version_minor": 0
      },
      "text/plain": [
       "Training:   0%|          | 0/1359 [00:00<?, ?it/s]"
      ]
     },
     "metadata": {},
     "output_type": "display_data"
    },
    {
     "data": {
      "application/vnd.jupyter.widget-view+json": {
       "model_id": "646c49007fcd4ce4947fd9cc7106ee8c",
       "version_major": 2,
       "version_minor": 0
      },
      "text/plain": [
       "Evaluating:   0%|          | 0/222 [00:00<?, ?it/s]"
      ]
     },
     "metadata": {},
     "output_type": "display_data"
    },
    {
     "data": {
      "application/vnd.jupyter.widget-view+json": {
       "model_id": "c06f3cdb4bf6408ba463aa619667e6d4",
       "version_major": 2,
       "version_minor": 0
      },
      "text/plain": [
       "Training:   0%|          | 0/1359 [00:00<?, ?it/s]"
      ]
     },
     "metadata": {},
     "output_type": "display_data"
    },
    {
     "data": {
      "application/vnd.jupyter.widget-view+json": {
       "model_id": "5b85466767ca4c4b948e41de14c319c1",
       "version_major": 2,
       "version_minor": 0
      },
      "text/plain": [
       "Evaluating:   0%|          | 0/222 [00:00<?, ?it/s]"
      ]
     },
     "metadata": {},
     "output_type": "display_data"
    },
    {
     "data": {
      "application/vnd.jupyter.widget-view+json": {
       "model_id": "293442bf9d214bf18968539ed51a8e17",
       "version_major": 2,
       "version_minor": 0
      },
      "text/plain": [
       "Training:   0%|          | 0/1359 [00:00<?, ?it/s]"
      ]
     },
     "metadata": {},
     "output_type": "display_data"
    },
    {
     "data": {
      "application/vnd.jupyter.widget-view+json": {
       "model_id": "8de33522db534fafb19344b210f7f797",
       "version_major": 2,
       "version_minor": 0
      },
      "text/plain": [
       "Evaluating:   0%|          | 0/222 [00:00<?, ?it/s]"
      ]
     },
     "metadata": {},
     "output_type": "display_data"
    },
    {
     "data": {
      "application/vnd.jupyter.widget-view+json": {
       "model_id": "f4dab50d64534b29831eb82eb7a2380a",
       "version_major": 2,
       "version_minor": 0
      },
      "text/plain": [
       "Training:   0%|          | 0/1359 [00:00<?, ?it/s]"
      ]
     },
     "metadata": {},
     "output_type": "display_data"
    },
    {
     "data": {
      "application/vnd.jupyter.widget-view+json": {
       "model_id": "5d7d96d4bb194cb99934b5895c59a215",
       "version_major": 2,
       "version_minor": 0
      },
      "text/plain": [
       "Evaluating:   0%|          | 0/222 [00:00<?, ?it/s]"
      ]
     },
     "metadata": {},
     "output_type": "display_data"
    },
    {
     "data": {
      "application/vnd.jupyter.widget-view+json": {
       "model_id": "6f0d9a87995046a4a89621158fbfcc76",
       "version_major": 2,
       "version_minor": 0
      },
      "text/plain": [
       "Training:   0%|          | 0/1359 [00:00<?, ?it/s]"
      ]
     },
     "metadata": {},
     "output_type": "display_data"
    },
    {
     "data": {
      "application/vnd.jupyter.widget-view+json": {
       "model_id": "ad6f4b6df4794dc1ae2ce75d9b8d2c5d",
       "version_major": 2,
       "version_minor": 0
      },
      "text/plain": [
       "Evaluating:   0%|          | 0/222 [00:00<?, ?it/s]"
      ]
     },
     "metadata": {},
     "output_type": "display_data"
    },
    {
     "data": {
      "application/vnd.jupyter.widget-view+json": {
       "model_id": "368cb648a3fb487889e6bea2e28a3d47",
       "version_major": 2,
       "version_minor": 0
      },
      "text/plain": [
       "Training:   0%|          | 0/1359 [00:00<?, ?it/s]"
      ]
     },
     "metadata": {},
     "output_type": "display_data"
    },
    {
     "data": {
      "application/vnd.jupyter.widget-view+json": {
       "model_id": "fd20f2caf9584e6da16fed08605db464",
       "version_major": 2,
       "version_minor": 0
      },
      "text/plain": [
       "Evaluating:   0%|          | 0/222 [00:00<?, ?it/s]"
      ]
     },
     "metadata": {},
     "output_type": "display_data"
    },
    {
     "data": {
      "application/vnd.jupyter.widget-view+json": {
       "model_id": "3ab78abea54b49f6820e3047bbf74941",
       "version_major": 2,
       "version_minor": 0
      },
      "text/plain": [
       "Training:   0%|          | 0/1359 [00:00<?, ?it/s]"
      ]
     },
     "metadata": {},
     "output_type": "display_data"
    },
    {
     "data": {
      "application/vnd.jupyter.widget-view+json": {
       "model_id": "9b22f569df044dc997fc92fbe6485729",
       "version_major": 2,
       "version_minor": 0
      },
      "text/plain": [
       "Evaluating:   0%|          | 0/222 [00:00<?, ?it/s]"
      ]
     },
     "metadata": {},
     "output_type": "display_data"
    }
   ],
   "source": [
    "train_loader = pt.utils.data.DataLoader(train_dset, batch_size=8, shuffle=True, collate_fn=collate_fn, pin_memory=True, drop_last=True)\n",
    "test_loader = pt.utils.data.DataLoader(test_dset, batch_size=8, collate_fn=collate_fn, pin_memory=True, drop_last=True)\n",
    "\n",
    "criterion = nn.CrossEntropyLoss(ignore_index=-1, label_smoothing=.1)\n",
    "\n",
    "epochs = 30\n",
    "accumulate_grad = 2\n",
    "\n",
    "optim = pt.optim.AdamW([\n",
    "    {\"params\": encoder.parameters()},\n",
    "    {\"params\": parser.parameters()}\n",
    "], weight_decay=0.01, lr=3e-4)\n",
    "lr_scheduler = pt.optim.lr_scheduler.CosineAnnealingLR(optim, epochs)\n",
    "\n",
    "encoder.train()\n",
    "parser.train()\n",
    "\n",
    "train_losses = []\n",
    "test_losses = []\n",
    "test_accuracies = []\n",
    "for epoch in (pbar := trange(epochs, desc='Epoch')):\n",
    "    train_loss_sum = 0\n",
    "    optim.zero_grad()\n",
    "    for i, (prefix_ids, spm_ids, suffix_ids, labels) in enumerate(tqdm(train_loader, desc='Training', leave=False)):\n",
    "        prefix_ids = prefix_ids.to(device)\n",
    "        spm_ids = spm_ids.to(device)\n",
    "        suffix_ids = suffix_ids.to(device)\n",
    "        labels = labels.to(device)\n",
    "        \n",
    "        embeddings = encoder(prefix_ids, spm_ids, suffix_ids)\n",
    "        logits = parser(embeddings, labels != -1)\n",
    "\n",
    "        loss = criterion(logits.flatten(end_dim=-2), labels.flatten())\n",
    "        loss.backward()\n",
    "\n",
    "        if (i + 1) % accumulate_grad == 0:\n",
    "            optim.step()\n",
    "            optim.zero_grad()\n",
    "\n",
    "        train_loss_sum += loss.item()\n",
    "\n",
    "    train_loss = train_loss_sum / len(train_loader)\n",
    "    train_losses.append(train_loss)\n",
    "    with pt.no_grad():\n",
    "        test_loss_sum = 0.\n",
    "        hits = 0\n",
    "        total = 0\n",
    "        for prefix_ids, spm_ids, suffix_ids, labels in tqdm(test_loader, desc='Evaluating', leave=False):\n",
    "            prefix_ids = prefix_ids.to(device)\n",
    "            spm_ids = spm_ids.to(device)\n",
    "            suffix_ids = suffix_ids.to(device)\n",
    "            labels = labels.to(device)\n",
    "            \n",
    "            embeddings = encoder(prefix_ids, spm_ids, suffix_ids)\n",
    "            logits = parser(embeddings, labels != -1).flatten(end_dim=-2)\n",
    "\n",
    "            logits = logits.flatten(end_dim=-2)\n",
    "            labels = labels.flatten()\n",
    "\n",
    "            test_loss_sum += criterion(logits, labels).item()\n",
    "            hits += pt.sum(logits.argmax(-1) == labels).item()\n",
    "            total += pt.sum(labels != -1).item()\n",
    "\n",
    "    test_loss = test_loss_sum / len(test_loader)\n",
    "    test_losses.append(test_loss)\n",
    "    test_acc = hits / total\n",
    "    test_accuracies.append(test_acc)\n",
    "    pbar.set_postfix_str(f'train loss: {train_loss:.2f}, test loss: {test_loss:.2f}, test accuracy: {test_acc*100:.2f}%')"
   ]
  },
  {
   "cell_type": "code",
   "execution_count": 7,
   "id": "729b275b",
   "metadata": {},
   "outputs": [
    {
     "data": {
      "text/plain": [
       "[<matplotlib.lines.Line2D at 0x2951cbf4620>]"
      ]
     },
     "execution_count": 7,
     "metadata": {},
     "output_type": "execute_result"
    },
    {
     "data": {
      "image/png": "[encoded data removed]",
      "text/plain": [
       "<Figure size 640x480 with 1 Axes>"
      ]
     },
     "metadata": {},
     "output_type": "display_data"
    }
   ],
   "source": [
    "import matplotlib.pyplot as plt\n",
    "\n",
    "plt.plot(test_accuracies)"
   ]
  },
  {
   "cell_type": "code",
   "execution_count": 9,
   "id": "7330b92b",
   "metadata": {},
   "outputs": [],
   "source": [
    "pt.save(encoder.state_dict(), '____tree_encoder.pt')\n",
    "pt.save(parser.state_dict(), '____tree_parser.pt')"
   ]
  },
  {
   "cell_type": "code",
   "execution_count": 6,
   "id": "a77e556b",
   "metadata": {},
   "outputs": [
    {
     "data": {
      "text/plain": [
       "<All keys matched successfully>"
      ]
     },
     "execution_count": 6,
     "metadata": {},
     "output_type": "execute_result"
    }
   ],
   "source": [
    "encoder.load_state_dict(pt.load('____tree_encoder.pt', weights_only=True))\n",
    "parser.load_state_dict(pt.load('____tree_parser.pt', weights_only=True))"
   ]
  },
  {
   "cell_type": "code",
   "execution_count": 23,
   "id": "ddbf0b60",
   "metadata": {},
   "outputs": [
    {
     "name": "stdout",
     "output_type": "stream",
     "text": [
      "['a', 'pretty', 'horse', 'landed', 'on', 'the', 'green', 'grass']\n",
      "['a->horse', 'pretty->horse', 'horse->landed', 'landed->ROOT', 'on->grass', 'the->grass', 'green->grass', 'grass->landed']\n"
     ]
    }
   ],
   "source": [
    "with pt.no_grad():\n",
    "    encoder.eval()\n",
    "    parser.eval()\n",
    "    bos_id, eos_id = tree_mopiece.bos_id(), tree_mopiece.eos_id()\n",
    "    input_sentence = input()\n",
    "    words = input_sentence.split()\n",
    "    print(words)\n",
    "    embeddings = []\n",
    "    for word in words:\n",
    "        prefix_ids, spm_ids, suffix_ids = map(lambda x: [bos_id] + x + [eos_id], tree_mopiece.encode_word(word))\n",
    "        embedding = encoder(pt.tensor(prefix_ids, dtype=pt.long, device=device), pt.tensor(spm_ids, dtype=pt.long, device=device), pt.tensor(suffix_ids, dtype=pt.long, device=device))\n",
    "        embeddings.append(embedding.unsqueeze(0))\n",
    "    heads = parser.inference(pt.cat(embeddings, dim=-2))\n",
    "    root_words = ['ROOT'] + words\n",
    "    for i, head in enumerate(heads):\n",
    "        words[i] += f'->{root_words[head]}'\n",
    "    print(words)"
   ]
  },
  {
   "cell_type": "markdown",
   "id": "4f595ce8",
   "metadata": {},
   "source": [
    "#### Phase 2"
   ]
  },
  {
   "cell_type": "code",
   "execution_count": 2,
   "id": "2731216a",
   "metadata": {},
   "outputs": [
    {
     "data": {
      "text/plain": [
       "<All keys matched successfully>"
      ]
     },
     "execution_count": 2,
     "metadata": {},
     "output_type": "execute_result"
    }
   ],
   "source": [
    "tree_mopiece = MOPiece('____tree_tokenizer')\n",
    "encoder = WordEncoder(tree_mopiece.vocab_size(), tree_mopiece.pad_id(), 256, ffn_hidden_dim=512, expansion_factor=4, spm_layers=6, suffix_depth=4, prefix_depth=4).to(device)\n",
    "parser = DependencyParser(256, dropout=.1).to(device)\n",
    "encoder.load_state_dict(pt.load('____tree_encoder.pt', weights_only=True))\n",
    "parser.load_state_dict(pt.load('____tree_parser.pt', weights_only=True))"
   ]
  },
  {
   "cell_type": "code",
   "execution_count": 3,
   "id": "0f3b0764",
   "metadata": {},
   "outputs": [],
   "source": [
    "from datasets import load_dataset\n",
    "\n",
    "ds = load_dataset(\"lucadiliello/bookcorpusopen\")"
   ]
  },
  {
   "cell_type": "code",
   "execution_count": 37,
   "id": "5200744e",
   "metadata": {},
   "outputs": [],
   "source": [
    "from random import shuffle\n",
    "k = 1000\n",
    "def texts():\n",
    "    idxs = list(range(len(ds['train'])))\n",
    "    shuffle(idxs)\n",
    "    for i in idxs[:k]:\n",
    "        yield ds['train'][i]['text']\n",
    "train_mopiece('____bookcorpus_tokenizer', texts(), prefixes, suffixes, 10000, filepaths=False)"
   ]
  },
  {
   "cell_type": "code",
   "execution_count": 4,
   "id": "0e22a7bc",
   "metadata": {},
   "outputs": [],
   "source": [
    "mopiece = MOPiece('____bookcorpus_tokenizer')"
   ]
  },
  {
   "cell_type": "code",
   "execution_count": 5,
   "id": "463b7170",
   "metadata": {},
   "outputs": [],
   "source": [
    "from random import randrange\n",
    "\n",
    "class BookCorpusInfiniteDataloader:\n",
    "    def __init__(self, dset, chunk_size_min=64, chunk_size_max=256):\n",
    "        self.dset = dset\n",
    "        self.chunk_size_min = chunk_size_min\n",
    "        self.chunk_size_max = chunk_size_max\n",
    "        self.reg = re.compile(r'[^\\p{L}\\p{M}\\p{N}\\s]+|\\s')\n",
    "\n",
    "    def __iter__(self):\n",
    "        return self\n",
    "    \n",
    "    def __next__(self):\n",
    "        while True:\n",
    "            try:\n",
    "                idx = randrange(len(self.dset))\n",
    "                encoder_chunk_size = randrange(self.chunk_size_min, self.chunk_size_max + 1)\n",
    "                decoder_chunk_size = randrange(self.chunk_size_min, self.chunk_size_max + 1)\n",
    "                total_chunk_size = encoder_chunk_size + decoder_chunk_size\n",
    "                text = self.dset[idx]['text']\n",
    "                max_idx = len(text) - total_chunk_size\n",
    "                if max_idx < 0:\n",
    "                    continue\n",
    "                start_idx = randrange(max_idx + 1)\n",
    "                middle_idx = start_idx + encoder_chunk_size\n",
    "                end_idx = middle_idx + decoder_chunk_size\n",
    "                m = self.reg.search(text, start_idx, middle_idx)\n",
    "                if m is None:\n",
    "                    continue\n",
    "                start_idx = m.end()\n",
    "                m = self.reg.search(text, middle_idx, end_idx)\n",
    "                if m is None:\n",
    "                    continue\n",
    "                middle_idx = m.end()\n",
    "                m = self.reg.search(text, end_idx)\n",
    "                if m is None:\n",
    "                    continue\n",
    "                end_idx = m.end()\n",
    "                if start_idx == middle_idx or middle_idx == end_idx:\n",
    "                    continue\n",
    "                return text[start_idx:middle_idx], text[middle_idx:end_idx]\n",
    "            except:\n",
    "                pass\n"
   ]
  },
  {
   "cell_type": "code",
   "execution_count": 6,
   "id": "409886c8",
   "metadata": {},
   "outputs": [],
   "source": [
    "embedding_dim = 512\n",
    "\n",
    "word_encoder = WordEncoder(mopiece.vocab_size(), mopiece.pad_id(), embedding_dim, ffn_hidden_dim=embedding_dim * 2, expansion_factor=4, spm_layers=6, suffix_depth=4, prefix_depth=4).to(device)\n",
    "word_decoder = WordDecoder(mopiece.vocab_size(), mopiece.pad_id(), mopiece.bos_id(), mopiece.eos_id(), embedding_dim, num_layers=8, expansion_factor=2).to(device)\n",
    "transformer = Transformer(embedding_dim).to(device)\n",
    "moplm = MOPLM(word_encoder, word_decoder, transformer).to(device)"
   ]
  },
  {
   "cell_type": "code",
   "execution_count": null,
   "id": "20bba981",
   "metadata": {},
   "outputs": [
    {
     "data": {
      "application/vnd.jupyter.widget-view+json": {
       "model_id": "ae772f308f8e4fbeae65d34bcf92c0b0",
       "version_major": 2,
       "version_minor": 0
      },
      "text/plain": [
       "Epochs: 0it [00:00, ?it/s]"
      ]
     },
     "metadata": {},
     "output_type": "display_data"
    },
    {
     "data": {
      "application/vnd.jupyter.widget-view+json": {
       "model_id": "99401661836e43028e0fd06e9ff449cc",
       "version_major": 2,
       "version_minor": 0
      },
      "text/plain": [
       "Training:   0%|          | 0/100 [00:00<?, ?it/s]"
      ]
     },
     "metadata": {},
     "output_type": "display_data"
    }
   ],
   "source": [
    "bos_id, eos_id, pad_id = mopiece.bos_id(), mopiece.eos_id(), mopiece.pad_id()\n",
    "\n",
    "xent = nn.CrossEntropyLoss(ignore_index=pad_id, label_smoothing=.1)\n",
    "criterion = lambda logits, labels: xent(logits.flatten(end_dim=-2), labels.flatten())\n",
    "\n",
    "loader = BookCorpusInfiniteDataloader(ds['train'])\n",
    "\n",
    "epoch_steps = 100\n",
    "gradient_accumulation = 2\n",
    "\n",
    "optim = pt.optim.AdamW(moplm.parameters(), weight_decay=0.01, lr=3e-4)\n",
    "lr_scheduler = pt.optim.lr_scheduler.ReduceLROnPlateau(optim, factor=.5, patience=10, cooldown=10)\n",
    "\n",
    "moplm.train()\n",
    "\n",
    "reg = re.compile(r'([^\\p{L}\\p{M}\\p{N}\\s]+|\\s)')\n",
    "\n",
    "losses = []\n",
    "step = 0\n",
    "pbar = tqdm(desc='Epochs')\n",
    "epoch_pbar = tqdm(desc='Training', total=epoch_steps, leave=False)\n",
    "epoch_loss_sum = 0.\n",
    "optim.zero_grad()\n",
    "for encoder_text, decoder_text in loader:\n",
    "\n",
    "    context_prefix_ids, context_spm_ids, context_suffix_ids = map(lambda x: [[bos_id] + seq + [eos_id] for seq in x[0]], mopiece.encode([encoder_text]))\n",
    "    \n",
    "    tokens = []\n",
    "    words = []\n",
    "    word_indices = []\n",
    "    idx = 0\n",
    "    for word in reg.split(decoder_text):\n",
    "        if word == ' ' or word == '':\n",
    "            continue\n",
    "        word = word.lower()\n",
    "        if not reg.search(word):\n",
    "            words.append(word)\n",
    "            word_indices.append(idx)\n",
    "        tokens.append(word)\n",
    "        idx += 1\n",
    "\n",
    "    embeddings = []\n",
    "    for word in words:\n",
    "        prefix_ids, spm_ids, suffix_ids = map(lambda x: [bos_id] + x + [eos_id], tree_mopiece.encode_word(word))\n",
    "        embedding = encoder(pt.tensor(prefix_ids, dtype=pt.long, device=device), pt.tensor(spm_ids, dtype=pt.long, device=device), pt.tensor(suffix_ids, dtype=pt.long, device=device))\n",
    "        embeddings.append(embedding.unsqueeze(0))\n",
    "    heads = parser.inference(pt.cat(embeddings, dim=-2))\n",
    "    word_depths = []\n",
    "    for head in heads:\n",
    "        depth = 0\n",
    "        while head:\n",
    "            head = heads[head - 1]\n",
    "            depth += 1\n",
    "        word_depths.append(depth)\n",
    "    \n",
    "    max_depth = max(word_depths) + 1\n",
    "    token_depths = [max_depth] * len(tokens)\n",
    "    for idx, depth in zip(word_indices, word_depths):\n",
    "        token_depths[idx] = depth\n",
    "    \n",
    "    input_prefix_ids = [[bos_id, eos_id]]\n",
    "    input_spm_ids = [[bos_id, eos_id]]\n",
    "    input_suffix_ids = [[bos_id, eos_id]]\n",
    "    input_depths = [max_depth + 1]\n",
    "    input_is_pad = [True]\n",
    "    output_prefix_ids = [[bos_id, eos_id]]\n",
    "    output_spm_ids = [[bos_id, eos_id]]\n",
    "    output_suffix_ids = [[bos_id, eos_id]]\n",
    "    for depth, token in zip(token_depths, tokens):\n",
    "        prefix_ids, spm_ids, suffix_ids = mopiece.encode_word(token)\n",
    "        input_prefix_ids.append([bos_id] + prefix_ids + [eos_id])\n",
    "        input_spm_ids.append([bos_id] + spm_ids + [eos_id])\n",
    "        input_suffix_ids.append([bos_id] + suffix_ids + [eos_id])\n",
    "        input_depths.append(depth)\n",
    "        input_is_pad.append(False)\n",
    "        \n",
    "        for pad_depth in (depth, max_depth + 1):\n",
    "            for l in (input_prefix_ids, input_spm_ids, input_suffix_ids):\n",
    "                l.append([bos_id, eos_id])\n",
    "            input_depths.append(pad_depth)\n",
    "            input_is_pad.append(True)\n",
    "\n",
    "        for _ in range(2):\n",
    "            output_prefix_ids.append([bos_id] + prefix_ids + [eos_id])\n",
    "            output_spm_ids.append([bos_id] + spm_ids + [eos_id])\n",
    "            output_suffix_ids.append([bos_id] + suffix_ids + [eos_id])\n",
    "\n",
    "        for l in (output_prefix_ids, output_spm_ids, output_suffix_ids):\n",
    "            l.append([bos_id, eos_id])\n",
    "    \n",
    "    attn_mask = []\n",
    "    for depth_i, pad_i in zip(input_depths, input_is_pad):\n",
    "        attn_mask_row = []\n",
    "        for depth_j, pad_j in zip(input_depths, input_is_pad):\n",
    "            attn_mask_row.append((depth_i >= depth_j + (pad_i and not pad_j)) and (pad_i or not pad_j))\n",
    "        attn_mask.append(attn_mask_row)\n",
    "    \n",
    "    attn_mask = pt.tensor(attn_mask, dtype=pt.bool, device=device)\n",
    "\n",
    "    input_prefix_ids, input_spm_ids, input_suffix_ids, context_prefix_ids, context_spm_ids, context_suffix_ids, output_prefix_ids, output_spm_ids, output_suffix_ids = map(lambda x: nn.utils.rnn.pad_sequence([pt.tensor(seq, dtype=pt.long, device=device) for seq in x], batch_first=True, padding_value=pad_id), (input_prefix_ids, input_spm_ids, input_suffix_ids, context_prefix_ids, context_spm_ids, context_suffix_ids, output_prefix_ids, output_spm_ids, output_suffix_ids))\n",
    "    \n",
    "    prefix_logits, spm_logits, suffix_logits = moplm.forward(input_prefix_ids, input_spm_ids, input_suffix_ids, context_prefix_ids, context_spm_ids, context_suffix_ids, output_prefix_ids[:, :-1], output_spm_ids[:, :-1], output_suffix_ids[:, :-1], attn_mask)\n",
    "    \n",
    "    loss = criterion(prefix_logits, output_prefix_ids[:, 1:]) + criterion(spm_logits, output_spm_ids[:, 1:]) + criterion(suffix_logits, output_suffix_ids[:, 1:])\n",
    "    loss.backward()\n",
    "\n",
    "    epoch_loss_sum += loss.item()\n",
    "\n",
    "    step += 1\n",
    "    epoch_pbar.update()\n",
    "    if step % gradient_accumulation == 0:\n",
    "        optim.step()\n",
    "        nn.utils.clip_grad_norm_(moplm.parameters(), 5.)\n",
    "        optim.zero_grad()\n",
    "\n",
    "    if step % epoch_steps == 0:\n",
    "        epoch_loss = epoch_loss_sum / epoch_steps\n",
    "        epoch_loss_sum = 0.\n",
    "        lr_scheduler.step(epoch_loss)\n",
    "        losses.append(epoch_loss)\n",
    "        pbar.update()\n",
    "        pbar.set_postfix_str(f'loss: {epoch_loss:.2f}, lr: {lr_scheduler.get_last_lr()[0]:.2e}')\n",
    "        epoch_pbar.close()\n",
    "        epoch_pbar = tqdm(desc='Training', total=epoch_steps, leave=False)\n"
   ]
  },
  {
   "cell_type": "code",
   "execution_count": 9,
   "id": "a0d64e30",
   "metadata": {},
   "outputs": [],
   "source": [
    "pt.save(moplm.state_dict(), '____moplm.pt')"
   ]
  },
  {
   "cell_type": "code",
   "execution_count": 7,
   "id": "f7889fe1",
   "metadata": {},
   "outputs": [
    {
     "data": {
      "text/plain": [
       "<All keys matched successfully>"
      ]
     },
     "execution_count": 7,
     "metadata": {},
     "output_type": "execute_result"
    }
   ],
   "source": [
    "moplm.load_state_dict(pt.load('____moplm.pt', weights_only=True))"
   ]
  },
  {
   "cell_type": "code",
   "execution_count": null,
   "id": "7348445a",
   "metadata": {},
   "outputs": [
    {
     "ename": "KeyboardInterrupt",
     "evalue": "",
     "output_type": "error",
     "traceback": [
      "\u001b[1;31m---------------------------------------------------------------------------\u001b[0m",
      "\u001b[1;31mKeyboardInterrupt\u001b[0m                         Traceback (most recent call last)",
      "Cell \u001b[1;32mIn[15], line 1\u001b[0m\n\u001b[1;32m----> 1\u001b[0m mopiece\u001b[38;5;241m.\u001b[39mdecode(\u001b[38;5;28mtuple\u001b[39m(\u001b[38;5;28mmap\u001b[39m(\u001b[38;5;28;01mlambda\u001b[39;00m x: [x], \u001b[43mmoplm\u001b[49m\u001b[38;5;241;43m.\u001b[39;49m\u001b[43minference\u001b[49m\u001b[43m(\u001b[49m\u001b[38;5;241;43m*\u001b[39;49m\u001b[38;5;28;43mmap\u001b[39;49m\u001b[43m(\u001b[49m\u001b[38;5;28;43;01mlambda\u001b[39;49;00m\u001b[43m \u001b[49m\u001b[43mx\u001b[49m\u001b[43m:\u001b[49m\u001b[43m \u001b[49m\u001b[43mx\u001b[49m\u001b[43m[\u001b[49m\u001b[38;5;241;43m0\u001b[39;49m\u001b[43m]\u001b[49m\u001b[43m,\u001b[49m\u001b[43m \u001b[49m\u001b[43mmopiece\u001b[49m\u001b[38;5;241;43m.\u001b[39;49m\u001b[43mencode\u001b[49m\u001b[43m(\u001b[49m\u001b[38;5;28;43minput\u001b[39;49m\u001b[43m(\u001b[49m\u001b[43m)\u001b[49m\u001b[43m)\u001b[49m\u001b[43m)\u001b[49m\u001b[43m,\u001b[49m\u001b[43m \u001b[49m\u001b[43mmax_iters\u001b[49m\u001b[38;5;241;43m=\u001b[39;49m\u001b[38;5;241;43m5\u001b[39;49m\u001b[43m,\u001b[49m\u001b[43m \u001b[49m\u001b[43minference_kwargs\u001b[49m\u001b[38;5;241;43m=\u001b[39;49m\u001b[38;5;28;43mdict\u001b[39;49m\u001b[43m(\u001b[49m\u001b[43mmax_len\u001b[49m\u001b[38;5;241;43m=\u001b[39;49m\u001b[38;5;241;43m10\u001b[39;49m\u001b[43m)\u001b[49m\u001b[43m)\u001b[49m)))\n",
      "File \u001b[1;32mc:\\Users\\ATRTi\\AppData\\Local\\Programs\\Python\\Python312\\Lib\\site-packages\\torch\\utils\\_contextlib.py:116\u001b[0m, in \u001b[0;36mcontext_decorator.<locals>.decorate_context\u001b[1;34m(*args, **kwargs)\u001b[0m\n\u001b[0;32m    113\u001b[0m \u001b[38;5;129m@functools\u001b[39m\u001b[38;5;241m.\u001b[39mwraps(func)\n\u001b[0;32m    114\u001b[0m \u001b[38;5;28;01mdef\u001b[39;00m \u001b[38;5;21mdecorate_context\u001b[39m(\u001b[38;5;241m*\u001b[39margs, \u001b[38;5;241m*\u001b[39m\u001b[38;5;241m*\u001b[39mkwargs):\n\u001b[0;32m    115\u001b[0m     \u001b[38;5;28;01mwith\u001b[39;00m ctx_factory():\n\u001b[1;32m--> 116\u001b[0m         \u001b[38;5;28;01mreturn\u001b[39;00m \u001b[43mfunc\u001b[49m\u001b[43m(\u001b[49m\u001b[38;5;241;43m*\u001b[39;49m\u001b[43margs\u001b[49m\u001b[43m,\u001b[49m\u001b[43m \u001b[49m\u001b[38;5;241;43m*\u001b[39;49m\u001b[38;5;241;43m*\u001b[39;49m\u001b[43mkwargs\u001b[49m\u001b[43m)\u001b[49m\n",
      "File \u001b[1;32mc:\\Users\\ATRTi\\Desktop\\MOP-LM\\MOP-LM\\moplm.py:153\u001b[0m, in \u001b[0;36mMOPLM.inference\u001b[1;34m(self, context_prefix_ids, context_spm_ids, context_suffix_ids, add_tags, beam_search, inference_kwargs, max_iters)\u001b[0m\n\u001b[0;32m    151\u001b[0m \u001b[38;5;28;01mfor\u001b[39;00m i, output_embedding \u001b[38;5;129;01min\u001b[39;00m \u001b[38;5;28menumerate\u001b[39m(output_embeddings[::\u001b[38;5;241m2\u001b[39m]):\n\u001b[0;32m    152\u001b[0m     \u001b[38;5;28;01mif\u001b[39;00m beam_search:\n\u001b[1;32m--> 153\u001b[0m         prefix_ids, spm_ids, suffix_ids \u001b[38;5;241m=\u001b[39m \u001b[38;5;28;43mself\u001b[39;49m\u001b[38;5;241;43m.\u001b[39;49m\u001b[43mword_decoder\u001b[49m\u001b[38;5;241;43m.\u001b[39;49m\u001b[43mbeam_search\u001b[49m\u001b[43m(\u001b[49m\u001b[43moutput_embedding\u001b[49m\u001b[43m,\u001b[49m\u001b[43m \u001b[49m\u001b[38;5;241;43m*\u001b[39;49m\u001b[38;5;241;43m*\u001b[39;49m\u001b[43minference_kwargs\u001b[49m\u001b[43m)\u001b[49m\n\u001b[0;32m    154\u001b[0m     \u001b[38;5;28;01melse\u001b[39;00m:\n\u001b[0;32m    155\u001b[0m         prefix_ids, spm_ids, suffix_ids \u001b[38;5;241m=\u001b[39m \u001b[38;5;28mself\u001b[39m\u001b[38;5;241m.\u001b[39mword_decoder\u001b[38;5;241m.\u001b[39minference(output_embedding, \u001b[38;5;241m*\u001b[39m\u001b[38;5;241m*\u001b[39minference_kwargs)\n",
      "File \u001b[1;32mc:\\Users\\ATRTi\\AppData\\Local\\Programs\\Python\\Python312\\Lib\\site-packages\\torch\\utils\\_contextlib.py:116\u001b[0m, in \u001b[0;36mcontext_decorator.<locals>.decorate_context\u001b[1;34m(*args, **kwargs)\u001b[0m\n\u001b[0;32m    113\u001b[0m \u001b[38;5;129m@functools\u001b[39m\u001b[38;5;241m.\u001b[39mwraps(func)\n\u001b[0;32m    114\u001b[0m \u001b[38;5;28;01mdef\u001b[39;00m \u001b[38;5;21mdecorate_context\u001b[39m(\u001b[38;5;241m*\u001b[39margs, \u001b[38;5;241m*\u001b[39m\u001b[38;5;241m*\u001b[39mkwargs):\n\u001b[0;32m    115\u001b[0m     \u001b[38;5;28;01mwith\u001b[39;00m ctx_factory():\n\u001b[1;32m--> 116\u001b[0m         \u001b[38;5;28;01mreturn\u001b[39;00m \u001b[43mfunc\u001b[49m\u001b[43m(\u001b[49m\u001b[38;5;241;43m*\u001b[39;49m\u001b[43margs\u001b[49m\u001b[43m,\u001b[49m\u001b[43m \u001b[49m\u001b[38;5;241;43m*\u001b[39;49m\u001b[38;5;241;43m*\u001b[39;49m\u001b[43mkwargs\u001b[49m\u001b[43m)\u001b[49m\n",
      "File \u001b[1;32mc:\\Users\\ATRTi\\Desktop\\MOP-LM\\MOP-LM\\word_autoencoder.py:346\u001b[0m, in \u001b[0;36mWordDecoder.beam_search\u001b[1;34m(self, embedding, beam_size, max_len, length_penalty)\u001b[0m\n\u001b[0;32m    328\u001b[0m prefix_ids \u001b[38;5;241m=\u001b[39m _beam_search_component(\n\u001b[0;32m    329\u001b[0m     \u001b[38;5;28mself\u001b[39m\u001b[38;5;241m.\u001b[39mprefix_proj(embedding),\n\u001b[0;32m    330\u001b[0m     \u001b[38;5;28mself\u001b[39m\u001b[38;5;241m.\u001b[39mprefix_embedding,\n\u001b[1;32m   (...)\u001b[0m\n\u001b[0;32m    334\u001b[0m     max_len[\u001b[38;5;241m0\u001b[39m]\n\u001b[0;32m    335\u001b[0m )\n\u001b[0;32m    337\u001b[0m spm_ids \u001b[38;5;241m=\u001b[39m _beam_search_component(\n\u001b[0;32m    338\u001b[0m     \u001b[38;5;28mself\u001b[39m\u001b[38;5;241m.\u001b[39mspm_proj(embedding),\n\u001b[0;32m    339\u001b[0m     \u001b[38;5;28mself\u001b[39m\u001b[38;5;241m.\u001b[39mspm_embedding,\n\u001b[1;32m   (...)\u001b[0m\n\u001b[0;32m    343\u001b[0m     max_len[\u001b[38;5;241m1\u001b[39m]\n\u001b[0;32m    344\u001b[0m )\n\u001b[1;32m--> 346\u001b[0m suffix_ids \u001b[38;5;241m=\u001b[39m \u001b[43m_beam_search_component\u001b[49m\u001b[43m(\u001b[49m\n\u001b[0;32m    347\u001b[0m \u001b[43m    \u001b[49m\u001b[38;5;28;43mself\u001b[39;49m\u001b[38;5;241;43m.\u001b[39;49m\u001b[43msuffix_proj\u001b[49m\u001b[43m(\u001b[49m\u001b[43membedding\u001b[49m\u001b[43m)\u001b[49m\u001b[43m,\u001b[49m\n\u001b[0;32m    348\u001b[0m \u001b[43m    \u001b[49m\u001b[38;5;28;43mself\u001b[39;49m\u001b[38;5;241;43m.\u001b[39;49m\u001b[43msuffix_embedding\u001b[49m\u001b[43m,\u001b[49m\n\u001b[0;32m    349\u001b[0m \u001b[43m    \u001b[49m\u001b[38;5;28;43mself\u001b[39;49m\u001b[38;5;241;43m.\u001b[39;49m\u001b[43msuffix_decoder\u001b[49m\u001b[43m,\u001b[49m\n\u001b[0;32m    350\u001b[0m \u001b[43m    \u001b[49m\u001b[38;5;28;43mself\u001b[39;49m\u001b[38;5;241;43m.\u001b[39;49m\u001b[43msuffix_norm\u001b[49m\u001b[43m,\u001b[49m\n\u001b[0;32m    351\u001b[0m \u001b[43m    \u001b[49m\u001b[38;5;28;43mself\u001b[39;49m\u001b[38;5;241;43m.\u001b[39;49m\u001b[43msuffix_linear\u001b[49m\u001b[43m,\u001b[49m\n\u001b[0;32m    352\u001b[0m \u001b[43m    \u001b[49m\u001b[43mmax_len\u001b[49m\u001b[43m[\u001b[49m\u001b[38;5;241;43m2\u001b[39;49m\u001b[43m]\u001b[49m\n\u001b[0;32m    353\u001b[0m \u001b[43m\u001b[49m\u001b[43m)\u001b[49m\n\u001b[0;32m    355\u001b[0m \u001b[38;5;28;01mreturn\u001b[39;00m prefix_ids, spm_ids, suffix_ids\n",
      "File \u001b[1;32mc:\\Users\\ATRTi\\Desktop\\MOP-LM\\MOP-LM\\word_autoencoder.py:302\u001b[0m, in \u001b[0;36mWordDecoder.beam_search.<locals>._beam_search_component\u001b[1;34m(emb_proj, embedding_fn, decoder, norm_fn, classifier_fn, max_seq_len)\u001b[0m\n\u001b[0;32m    299\u001b[0m curr_emb \u001b[38;5;241m=\u001b[39m embedding_fn(curr_input_ids)\n\u001b[0;32m    300\u001b[0m curr_input \u001b[38;5;241m=\u001b[39m pt\u001b[38;5;241m.\u001b[39mcat([emb_proj, curr_emb], dim\u001b[38;5;241m=\u001b[39m\u001b[38;5;241m-\u001b[39m\u001b[38;5;241m2\u001b[39m)\n\u001b[1;32m--> 302\u001b[0m logits \u001b[38;5;241m=\u001b[39m \u001b[38;5;28;43mself\u001b[39;49m\u001b[38;5;241;43m.\u001b[39;49m\u001b[43m_decode_sequence\u001b[49m\u001b[43m(\u001b[49m\u001b[43mcurr_input\u001b[49m\u001b[43m,\u001b[49m\u001b[43m \u001b[49m\u001b[43mdecoder\u001b[49m\u001b[43m,\u001b[49m\u001b[43m \u001b[49m\u001b[43mnorm_fn\u001b[49m\u001b[43m,\u001b[49m\u001b[43m \u001b[49m\u001b[43mclassifier_fn\u001b[49m\u001b[43m)\u001b[49m[\u001b[38;5;241m.\u001b[39m\u001b[38;5;241m.\u001b[39m\u001b[38;5;241m.\u001b[39m, \u001b[38;5;241m-\u001b[39m\u001b[38;5;241m1\u001b[39m, :]\n\u001b[0;32m    304\u001b[0m log_probs \u001b[38;5;241m=\u001b[39m F\u001b[38;5;241m.\u001b[39mlog_softmax(logits, dim\u001b[38;5;241m=\u001b[39m\u001b[38;5;241m-\u001b[39m\u001b[38;5;241m1\u001b[39m)\n\u001b[0;32m    305\u001b[0m topk_log_probs, topk_indices \u001b[38;5;241m=\u001b[39m log_probs\u001b[38;5;241m.\u001b[39mtopk(beam_size)\n",
      "File \u001b[1;32mc:\\Users\\ATRTi\\Desktop\\MOP-LM\\MOP-LM\\word_autoencoder.py:152\u001b[0m, in \u001b[0;36mWordDecoder._decode_sequence\u001b[1;34m(self, input_emb, decoder, final_norm, classifier)\u001b[0m\n\u001b[0;32m    150\u001b[0m L \u001b[38;5;241m=\u001b[39m input_emb\u001b[38;5;241m.\u001b[39mshape[\u001b[38;5;241m-\u001b[39m\u001b[38;5;241m2\u001b[39m]\n\u001b[0;32m    151\u001b[0m mask \u001b[38;5;241m=\u001b[39m pt\u001b[38;5;241m.\u001b[39mtril(pt\u001b[38;5;241m.\u001b[39mones((\u001b[38;5;241m*\u001b[39mbatch_shape, L, L), device\u001b[38;5;241m=\u001b[39minput_emb\u001b[38;5;241m.\u001b[39mdevice, dtype\u001b[38;5;241m=\u001b[39mpt\u001b[38;5;241m.\u001b[39mbool))\n\u001b[1;32m--> 152\u001b[0m \u001b[38;5;28;01mreturn\u001b[39;00m classifier(final_norm(\u001b[43mdecoder\u001b[49m\u001b[43m(\u001b[49m\u001b[43minput_emb\u001b[49m\u001b[43m,\u001b[49m\u001b[43m \u001b[49m\u001b[43mmask\u001b[49m\u001b[43m)\u001b[49m))\n",
      "File \u001b[1;32mc:\\Users\\ATRTi\\AppData\\Local\\Programs\\Python\\Python312\\Lib\\site-packages\\torch\\nn\\modules\\module.py:1739\u001b[0m, in \u001b[0;36mModule._wrapped_call_impl\u001b[1;34m(self, *args, **kwargs)\u001b[0m\n\u001b[0;32m   1737\u001b[0m     \u001b[38;5;28;01mreturn\u001b[39;00m \u001b[38;5;28mself\u001b[39m\u001b[38;5;241m.\u001b[39m_compiled_call_impl(\u001b[38;5;241m*\u001b[39margs, \u001b[38;5;241m*\u001b[39m\u001b[38;5;241m*\u001b[39mkwargs)  \u001b[38;5;66;03m# type: ignore[misc]\u001b[39;00m\n\u001b[0;32m   1738\u001b[0m \u001b[38;5;28;01melse\u001b[39;00m:\n\u001b[1;32m-> 1739\u001b[0m     \u001b[38;5;28;01mreturn\u001b[39;00m \u001b[38;5;28;43mself\u001b[39;49m\u001b[38;5;241;43m.\u001b[39;49m\u001b[43m_call_impl\u001b[49m\u001b[43m(\u001b[49m\u001b[38;5;241;43m*\u001b[39;49m\u001b[43margs\u001b[49m\u001b[43m,\u001b[49m\u001b[43m \u001b[49m\u001b[38;5;241;43m*\u001b[39;49m\u001b[38;5;241;43m*\u001b[39;49m\u001b[43mkwargs\u001b[49m\u001b[43m)\u001b[49m\n",
      "File \u001b[1;32mc:\\Users\\ATRTi\\AppData\\Local\\Programs\\Python\\Python312\\Lib\\site-packages\\torch\\nn\\modules\\module.py:1750\u001b[0m, in \u001b[0;36mModule._call_impl\u001b[1;34m(self, *args, **kwargs)\u001b[0m\n\u001b[0;32m   1745\u001b[0m \u001b[38;5;66;03m# If we don't have any hooks, we want to skip the rest of the logic in\u001b[39;00m\n\u001b[0;32m   1746\u001b[0m \u001b[38;5;66;03m# this function, and just call forward.\u001b[39;00m\n\u001b[0;32m   1747\u001b[0m \u001b[38;5;28;01mif\u001b[39;00m \u001b[38;5;129;01mnot\u001b[39;00m (\u001b[38;5;28mself\u001b[39m\u001b[38;5;241m.\u001b[39m_backward_hooks \u001b[38;5;129;01mor\u001b[39;00m \u001b[38;5;28mself\u001b[39m\u001b[38;5;241m.\u001b[39m_backward_pre_hooks \u001b[38;5;129;01mor\u001b[39;00m \u001b[38;5;28mself\u001b[39m\u001b[38;5;241m.\u001b[39m_forward_hooks \u001b[38;5;129;01mor\u001b[39;00m \u001b[38;5;28mself\u001b[39m\u001b[38;5;241m.\u001b[39m_forward_pre_hooks\n\u001b[0;32m   1748\u001b[0m         \u001b[38;5;129;01mor\u001b[39;00m _global_backward_pre_hooks \u001b[38;5;129;01mor\u001b[39;00m _global_backward_hooks\n\u001b[0;32m   1749\u001b[0m         \u001b[38;5;129;01mor\u001b[39;00m _global_forward_hooks \u001b[38;5;129;01mor\u001b[39;00m _global_forward_pre_hooks):\n\u001b[1;32m-> 1750\u001b[0m     \u001b[38;5;28;01mreturn\u001b[39;00m \u001b[43mforward_call\u001b[49m\u001b[43m(\u001b[49m\u001b[38;5;241;43m*\u001b[39;49m\u001b[43margs\u001b[49m\u001b[43m,\u001b[49m\u001b[43m \u001b[49m\u001b[38;5;241;43m*\u001b[39;49m\u001b[38;5;241;43m*\u001b[39;49m\u001b[43mkwargs\u001b[49m\u001b[43m)\u001b[49m\n\u001b[0;32m   1752\u001b[0m result \u001b[38;5;241m=\u001b[39m \u001b[38;5;28;01mNone\u001b[39;00m\n\u001b[0;32m   1753\u001b[0m called_always_called_hooks \u001b[38;5;241m=\u001b[39m \u001b[38;5;28mset\u001b[39m()\n",
      "File \u001b[1;32mc:\\Users\\ATRTi\\Desktop\\MOP-LM\\MOP-LM\\common.py:264\u001b[0m, in \u001b[0;36mEncoder.forward\u001b[1;34m(self, x, attn_mask)\u001b[0m\n\u001b[0;32m    262\u001b[0m \u001b[38;5;28;01mfor\u001b[39;00m i \u001b[38;5;129;01min\u001b[39;00m \u001b[38;5;28mrange\u001b[39m(\u001b[38;5;28mself\u001b[39m\u001b[38;5;241m.\u001b[39mn_layers):\n\u001b[0;32m    263\u001b[0m     x \u001b[38;5;241m=\u001b[39m x \u001b[38;5;241m+\u001b[39m \u001b[38;5;28mself\u001b[39m\u001b[38;5;241m.\u001b[39mMHSAs[i](\u001b[38;5;28mself\u001b[39m\u001b[38;5;241m.\u001b[39mnorms[\u001b[38;5;241m2\u001b[39m \u001b[38;5;241m*\u001b[39m i](x), attn_mask)\n\u001b[1;32m--> 264\u001b[0m     x \u001b[38;5;241m=\u001b[39m x \u001b[38;5;241m+\u001b[39m \u001b[38;5;28mself\u001b[39m\u001b[38;5;241m.\u001b[39mFFNs[i](\u001b[38;5;28;43mself\u001b[39;49m\u001b[38;5;241;43m.\u001b[39;49m\u001b[43mnorms\u001b[49m\u001b[43m[\u001b[49m\u001b[38;5;241;43m2\u001b[39;49m\u001b[43m \u001b[49m\u001b[38;5;241;43m*\u001b[39;49m\u001b[43m \u001b[49m\u001b[43mi\u001b[49m\u001b[43m \u001b[49m\u001b[38;5;241;43m+\u001b[39;49m\u001b[43m \u001b[49m\u001b[38;5;241;43m1\u001b[39;49m\u001b[43m]\u001b[49m\u001b[43m(\u001b[49m\u001b[43mx\u001b[49m\u001b[43m)\u001b[49m)\n\u001b[0;32m    265\u001b[0m \u001b[38;5;28;01mreturn\u001b[39;00m x\n",
      "File \u001b[1;32mc:\\Users\\ATRTi\\AppData\\Local\\Programs\\Python\\Python312\\Lib\\site-packages\\torch\\nn\\modules\\module.py:1739\u001b[0m, in \u001b[0;36mModule._wrapped_call_impl\u001b[1;34m(self, *args, **kwargs)\u001b[0m\n\u001b[0;32m   1737\u001b[0m     \u001b[38;5;28;01mreturn\u001b[39;00m \u001b[38;5;28mself\u001b[39m\u001b[38;5;241m.\u001b[39m_compiled_call_impl(\u001b[38;5;241m*\u001b[39margs, \u001b[38;5;241m*\u001b[39m\u001b[38;5;241m*\u001b[39mkwargs)  \u001b[38;5;66;03m# type: ignore[misc]\u001b[39;00m\n\u001b[0;32m   1738\u001b[0m \u001b[38;5;28;01melse\u001b[39;00m:\n\u001b[1;32m-> 1739\u001b[0m     \u001b[38;5;28;01mreturn\u001b[39;00m \u001b[38;5;28;43mself\u001b[39;49m\u001b[38;5;241;43m.\u001b[39;49m\u001b[43m_call_impl\u001b[49m\u001b[43m(\u001b[49m\u001b[38;5;241;43m*\u001b[39;49m\u001b[43margs\u001b[49m\u001b[43m,\u001b[49m\u001b[43m \u001b[49m\u001b[38;5;241;43m*\u001b[39;49m\u001b[38;5;241;43m*\u001b[39;49m\u001b[43mkwargs\u001b[49m\u001b[43m)\u001b[49m\n",
      "File \u001b[1;32mc:\\Users\\ATRTi\\AppData\\Local\\Programs\\Python\\Python312\\Lib\\site-packages\\torch\\nn\\modules\\module.py:1750\u001b[0m, in \u001b[0;36mModule._call_impl\u001b[1;34m(self, *args, **kwargs)\u001b[0m\n\u001b[0;32m   1745\u001b[0m \u001b[38;5;66;03m# If we don't have any hooks, we want to skip the rest of the logic in\u001b[39;00m\n\u001b[0;32m   1746\u001b[0m \u001b[38;5;66;03m# this function, and just call forward.\u001b[39;00m\n\u001b[0;32m   1747\u001b[0m \u001b[38;5;28;01mif\u001b[39;00m \u001b[38;5;129;01mnot\u001b[39;00m (\u001b[38;5;28mself\u001b[39m\u001b[38;5;241m.\u001b[39m_backward_hooks \u001b[38;5;129;01mor\u001b[39;00m \u001b[38;5;28mself\u001b[39m\u001b[38;5;241m.\u001b[39m_backward_pre_hooks \u001b[38;5;129;01mor\u001b[39;00m \u001b[38;5;28mself\u001b[39m\u001b[38;5;241m.\u001b[39m_forward_hooks \u001b[38;5;129;01mor\u001b[39;00m \u001b[38;5;28mself\u001b[39m\u001b[38;5;241m.\u001b[39m_forward_pre_hooks\n\u001b[0;32m   1748\u001b[0m         \u001b[38;5;129;01mor\u001b[39;00m _global_backward_pre_hooks \u001b[38;5;129;01mor\u001b[39;00m _global_backward_hooks\n\u001b[0;32m   1749\u001b[0m         \u001b[38;5;129;01mor\u001b[39;00m _global_forward_hooks \u001b[38;5;129;01mor\u001b[39;00m _global_forward_pre_hooks):\n\u001b[1;32m-> 1750\u001b[0m     \u001b[38;5;28;01mreturn\u001b[39;00m \u001b[43mforward_call\u001b[49m\u001b[43m(\u001b[49m\u001b[38;5;241;43m*\u001b[39;49m\u001b[43margs\u001b[49m\u001b[43m,\u001b[49m\u001b[43m \u001b[49m\u001b[38;5;241;43m*\u001b[39;49m\u001b[38;5;241;43m*\u001b[39;49m\u001b[43mkwargs\u001b[49m\u001b[43m)\u001b[49m\n\u001b[0;32m   1752\u001b[0m result \u001b[38;5;241m=\u001b[39m \u001b[38;5;28;01mNone\u001b[39;00m\n\u001b[0;32m   1753\u001b[0m called_always_called_hooks \u001b[38;5;241m=\u001b[39m \u001b[38;5;28mset\u001b[39m()\n",
      "File \u001b[1;32mc:\\Users\\ATRTi\\AppData\\Local\\Programs\\Python\\Python312\\Lib\\site-packages\\torch\\nn\\modules\\normalization.py:401\u001b[0m, in \u001b[0;36mRMSNorm.forward\u001b[1;34m(self, x)\u001b[0m\n\u001b[0;32m    397\u001b[0m \u001b[38;5;28;01mdef\u001b[39;00m \u001b[38;5;21mforward\u001b[39m(\u001b[38;5;28mself\u001b[39m, x: torch\u001b[38;5;241m.\u001b[39mTensor) \u001b[38;5;241m-\u001b[39m\u001b[38;5;241m>\u001b[39m torch\u001b[38;5;241m.\u001b[39mTensor:\n\u001b[0;32m    398\u001b[0m \u001b[38;5;250m    \u001b[39m\u001b[38;5;124;03m\"\"\"\u001b[39;00m\n\u001b[0;32m    399\u001b[0m \u001b[38;5;124;03m    Runs forward pass.\u001b[39;00m\n\u001b[0;32m    400\u001b[0m \u001b[38;5;124;03m    \"\"\"\u001b[39;00m\n\u001b[1;32m--> 401\u001b[0m     \u001b[38;5;28;01mreturn\u001b[39;00m \u001b[43mF\u001b[49m\u001b[38;5;241;43m.\u001b[39;49m\u001b[43mrms_norm\u001b[49m\u001b[43m(\u001b[49m\u001b[43mx\u001b[49m\u001b[43m,\u001b[49m\u001b[43m \u001b[49m\u001b[38;5;28;43mself\u001b[39;49m\u001b[38;5;241;43m.\u001b[39;49m\u001b[43mnormalized_shape\u001b[49m\u001b[43m,\u001b[49m\u001b[43m \u001b[49m\u001b[38;5;28;43mself\u001b[39;49m\u001b[38;5;241;43m.\u001b[39;49m\u001b[43mweight\u001b[49m\u001b[43m,\u001b[49m\u001b[43m \u001b[49m\u001b[38;5;28;43mself\u001b[39;49m\u001b[38;5;241;43m.\u001b[39;49m\u001b[43meps\u001b[49m\u001b[43m)\u001b[49m\n",
      "File \u001b[1;32mc:\\Users\\ATRTi\\AppData\\Local\\Programs\\Python\\Python312\\Lib\\site-packages\\torch\\nn\\functional.py:2929\u001b[0m, in \u001b[0;36mrms_norm\u001b[1;34m(input, normalized_shape, weight, eps)\u001b[0m\n\u001b[0;32m   2925\u001b[0m \u001b[38;5;28;01mif\u001b[39;00m has_torch_function_variadic(\u001b[38;5;28minput\u001b[39m, weight):\n\u001b[0;32m   2926\u001b[0m     \u001b[38;5;28;01mreturn\u001b[39;00m handle_torch_function(\n\u001b[0;32m   2927\u001b[0m         rms_norm, (\u001b[38;5;28minput\u001b[39m, weight), \u001b[38;5;28minput\u001b[39m, normalized_shape, weight\u001b[38;5;241m=\u001b[39mweight, eps\u001b[38;5;241m=\u001b[39meps\n\u001b[0;32m   2928\u001b[0m     )\n\u001b[1;32m-> 2929\u001b[0m \u001b[38;5;28;01mreturn\u001b[39;00m \u001b[43mtorch\u001b[49m\u001b[38;5;241;43m.\u001b[39;49m\u001b[43mrms_norm\u001b[49m\u001b[43m(\u001b[49m\u001b[38;5;28;43minput\u001b[39;49m\u001b[43m,\u001b[49m\u001b[43m \u001b[49m\u001b[43mnormalized_shape\u001b[49m\u001b[43m,\u001b[49m\u001b[43m \u001b[49m\u001b[43mweight\u001b[49m\u001b[43m,\u001b[49m\u001b[43m \u001b[49m\u001b[43meps\u001b[49m\u001b[43m)\u001b[49m\n",
      "\u001b[1;31mKeyboardInterrupt\u001b[0m: "
     ]
    }
   ],
   "source": [
    "mopiece.decode(tuple(map(lambda x: [x], moplm.inference(*map(lambda x: x[0], mopiece.encode([input()])), max_iters=5, inference_kwargs=dict(max_len=10)))))"
   ]
  }
 ],
 "metadata": {
  "kernelspec": {
   "display_name": "Python 3",
   "language": "python",
   "name": "python3"
  },
  "language_info": {
   "codemirror_mode": {
    "name": "ipython",
    "version": 3
   },
   "file_extension": ".py",
   "mimetype": "text/x-python",
   "name": "python",
   "nbconvert_exporter": "python",
   "pygments_lexer": "ipython3",
   "version": "3.12.6"
  }
 },
 "nbformat": 4,
 "nbformat_minor": 5
}
