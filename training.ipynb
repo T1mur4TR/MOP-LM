{
 "cells": [
  {
   "cell_type": "code",
   "execution_count": 1,
   "id": "955608bc",
   "metadata": {},
   "outputs": [],
   "source": [
    "import torch as pt\n",
    "from torch import nn\n",
    "import torch.nn.functional as F\n",
    "\n",
    "from pyconll import iter_from_file\n",
    "\n",
    "from tokenizer import train_mopiece, MOPiece\n",
    "\n",
    "import regex as re\n",
    "\n",
    "from word_autoencoder import WordEncoder\n",
    "from dependency_parser import DependencyParser\n",
    "\n",
    "from tqdm.notebook import trange, tqdm\n",
    "\n",
    "device = ('cuda' if pt.cuda.is_available() else 'mps' if pt.backends.mps.is_available() else 'cpu')"
   ]
  },
  {
   "cell_type": "code",
   "execution_count": 2,
   "id": "8d7e4ea3",
   "metadata": {},
   "outputs": [],
   "source": [
    "# import regex as re\n",
    "# reg = re.compile(r'[^\\p{L}\\p{M}\\p{N}\\s]+|\\s')\n",
    "# bad = 0\n",
    "# total = 0\n",
    "# for tree in iter_from_file('data/treebank/en_ewt-ud-train.conllu'):\n",
    "#     reg_words = []\n",
    "#     for word in reg.split(tree.text):\n",
    "#         if word == '' or word == ' ':\n",
    "#             continue\n",
    "#         reg_words.append(word)\n",
    "#     tree_words = []\n",
    "#     beb = []\n",
    "#     for word in tree:\n",
    "#         if word._form is not None and word.head is not None:\n",
    "#             word_s = reg.sub('', word._form)\n",
    "#             if word_s:\n",
    "#                 tree_words.append(word_s)\n",
    "#         beb.append((word._form, word.id, word.head))\n",
    "#     total += 1\n",
    "#     if reg_words != tree_words and len(reg_words) == len(tree_words):\n",
    "#         p = False\n",
    "#         for r, t in zip(reg_words, tree_words):\n",
    "#             if r != t and r[-1] != 'n' and t != 'nt':\n",
    "#                 p = True\n",
    "#         if p:\n",
    "#             continue\n",
    "#         print(tree.text)\n",
    "#         print(reg_words)\n",
    "#         print(tree_words)\n",
    "#         print(beb)\n",
    "#         print()\n",
    "#         bad += 1\n",
    "# print(bad, total)"
   ]
  },
  {
   "cell_type": "code",
   "execution_count": 3,
   "id": "3dd98798",
   "metadata": {},
   "outputs": [],
   "source": [
    "def use_tree(tree, reg):\n",
    "    reg_words = [word for word in reg.split(tree.text) if word != ' ' and word != '']\n",
    "    tree_words = []\n",
    "    for word in tree:\n",
    "        if word._form is not None and word.head is not None:\n",
    "            word_s = reg.sub('', word._form)\n",
    "            if word_s:\n",
    "                tree_words.append(word_s)\n",
    "    if reg_words == tree_words:\n",
    "        return True\n",
    "    if len(reg_words) == len(tree_words):\n",
    "        nts_match = True\n",
    "        for r, t in zip(reg_words, tree_words):\n",
    "            if r != t and r[-1] != 'n' and t != 'nt':\n",
    "                nts_match = False\n",
    "                break\n",
    "        return nts_match\n",
    "    \n",
    "    \n",
    "def train_tree_tokenizer(directory_path, filepath, prefixes, suffixes, spm_vocab_size: int, spm_model_type: str='bpe', min_stem: int=3):\n",
    "    words = []\n",
    "    reg = re.compile(r'[^\\p{L}\\p{M}\\p{N}\\s]+|\\s')\n",
    "    for tree in iter_from_file(filepath):\n",
    "        if use_tree(tree, reg):\n",
    "            for word in tree:\n",
    "                if word._form is not None and word.head is not None:\n",
    "                    word_s = reg.sub('', word._form)\n",
    "                    if word_s:\n",
    "                        words.append(word_s)\n",
    "    train_mopiece(directory_path, words, prefixes, suffixes, spm_vocab_size, spm_model_type, min_stem, False)\n",
    "\n",
    "\n",
    "class TreeDataset(pt.utils.data.Dataset):\n",
    "    def __init__(self, filepath, mopiece):\n",
    "        reg = re.compile(r'[^\\p{L}\\p{M}\\p{N}\\s]+|\\s')\n",
    "        self.labels = []\n",
    "        self.prefix_ids = []\n",
    "        self.spm_ids = []\n",
    "        self.suffix_ids = []\n",
    "        bos_id = mopiece.bos_id()\n",
    "        eos_id = mopiece.eos_id()\n",
    "        for tree in iter_from_file(filepath):\n",
    "            if use_tree(tree, reg):\n",
    "                labels = []\n",
    "                prefix_ids = []\n",
    "                spm_ids = []\n",
    "                suffix_ids = []\n",
    "                skipped_ids = []\n",
    "                for word in tree:\n",
    "                    if word._form is not None and word.head is not None:\n",
    "                        word_s = reg.sub('', word._form)\n",
    "                        if word_s:\n",
    "                            word_prefix_ids, word_spm_ids, word_suffix_ids = mopiece.encode_word(word_s)\n",
    "                            prefix_ids.append([bos_id] + word_prefix_ids + [eos_id])\n",
    "                            spm_ids.append([bos_id] + word_spm_ids + [eos_id])\n",
    "                            suffix_ids.append([bos_id] + word_suffix_ids + [eos_id])\n",
    "                            labels.append(int(word.head))\n",
    "                            continue\n",
    "                    if '-' not in word.id and '.' not in word.id:\n",
    "                        skipped_ids.append(int(word.id))\n",
    "                self.prefix_ids.append(prefix_ids)\n",
    "                self.spm_ids.append(spm_ids)\n",
    "                self.suffix_ids.append(suffix_ids)\n",
    "                for i, label in enumerate(labels):\n",
    "                    labels[i] -= sum([label >= j for j in skipped_ids])\n",
    "                self.labels.append(pt.tensor(labels, dtype=pt.long))\n",
    "    \n",
    "    def __len__(self):\n",
    "        return len(self.labels)\n",
    "\n",
    "    def __getitem__(self, index):\n",
    "        return self.prefix_ids[index], self.spm_ids[index], self.suffix_ids[index], self.labels[index]"
   ]
  },
  {
   "cell_type": "code",
   "execution_count": null,
   "id": "4366ba11",
   "metadata": {},
   "outputs": [],
   "source": [
    "with open(r'data\\morphynet\\prefixes.csv') as file:\n",
    "    prefixes = [s[:-1] for s in file.readlines()[1:]]\n",
    "with open(r'data\\morphynet\\suffixes.csv') as file:\n",
    "    suffixes = [s[:-1] for s in file.readlines()[1:]]\n",
    "train_tree_tokenizer('____tree_tokenizer', 'data/treebank/en_ewt-ud-train.conllu', prefixes, suffixes, 3000)"
   ]
  },
  {
   "cell_type": "code",
   "execution_count": 4,
   "id": "bd5fd087",
   "metadata": {},
   "outputs": [],
   "source": [
    "mopiece = MOPiece('____tree_tokenizer')\n",
    "train_dset = TreeDataset(r'data\\treebank\\en_ewt-ud-train.conllu', mopiece)\n",
    "test_dset = TreeDataset(r'data\\treebank\\en_ewt-ud-test.conllu', mopiece)"
   ]
  },
  {
   "cell_type": "code",
   "execution_count": 5,
   "id": "a4a80b7f",
   "metadata": {},
   "outputs": [],
   "source": [
    "pad_id = mopiece.pad_id()\n",
    "\n",
    "def collate_fn(batch):\n",
    "    def handle_component(i):\n",
    "        max_len = max_sublen = 0\n",
    "        for tup in batch:\n",
    "            seq = tup[i]\n",
    "            max_len = max(max_len, len(seq))\n",
    "            for subseq in seq:\n",
    "                max_sublen = max(max_sublen, len(subseq))\n",
    "        tensor = []\n",
    "        for tup in batch:\n",
    "            seq = tup[i]\n",
    "            tensor_seq = []\n",
    "            for subseq in seq:\n",
    "                tensor_seq.append(subseq + [pad_id] * (max_sublen - len(subseq)))\n",
    "            for _ in range(max_len - len(seq)):\n",
    "                tensor_seq.append([pad_id] * max_sublen)\n",
    "            tensor.append(tensor_seq)\n",
    "        return pt.tensor(tensor, dtype=pt.long)\n",
    "\n",
    "    return handle_component(0), handle_component(1), handle_component(2), nn.utils.rnn.pad_sequence([labels for prefix, spm, suffix, labels in batch], batch_first=True, padding_value=-1)"
   ]
  },
  {
   "cell_type": "code",
   "execution_count": 6,
   "id": "12ba431a",
   "metadata": {},
   "outputs": [
    {
     "data": {
      "application/vnd.jupyter.widget-view+json": {
       "model_id": "daad716c329a49d88d6f146ddfaa6b4a",
       "version_major": 2,
       "version_minor": 0
      },
      "text/plain": [
       "Epoch:   0%|          | 0/30 [00:00<?, ?it/s]"
      ]
     },
     "metadata": {},
     "output_type": "display_data"
    },
    {
     "data": {
      "application/vnd.jupyter.widget-view+json": {
       "model_id": "a84067bd3e2646a9b9c90e12a600bebf",
       "version_major": 2,
       "version_minor": 0
      },
      "text/plain": [
       "Training:   0%|          | 0/1359 [00:00<?, ?it/s]"
      ]
     },
     "metadata": {},
     "output_type": "display_data"
    },
    {
     "data": {
      "application/vnd.jupyter.widget-view+json": {
       "model_id": "2dae88409a0b47f590f2a74023138b5f",
       "version_major": 2,
       "version_minor": 0
      },
      "text/plain": [
       "Evaluating:   0%|          | 0/222 [00:00<?, ?it/s]"
      ]
     },
     "metadata": {},
     "output_type": "display_data"
    },
    {
     "data": {
      "application/vnd.jupyter.widget-view+json": {
       "model_id": "d46bb78009564955b5f0a79819d322e9",
       "version_major": 2,
       "version_minor": 0
      },
      "text/plain": [
       "Training:   0%|          | 0/1359 [00:00<?, ?it/s]"
      ]
     },
     "metadata": {},
     "output_type": "display_data"
    },
    {
     "data": {
      "application/vnd.jupyter.widget-view+json": {
       "model_id": "caf2f588ee74478caf9d374b337e26c7",
       "version_major": 2,
       "version_minor": 0
      },
      "text/plain": [
       "Evaluating:   0%|          | 0/222 [00:00<?, ?it/s]"
      ]
     },
     "metadata": {},
     "output_type": "display_data"
    },
    {
     "data": {
      "application/vnd.jupyter.widget-view+json": {
       "model_id": "d2309731b64d46719fe20bcc2bf161ca",
       "version_major": 2,
       "version_minor": 0
      },
      "text/plain": [
       "Training:   0%|          | 0/1359 [00:00<?, ?it/s]"
      ]
     },
     "metadata": {},
     "output_type": "display_data"
    },
    {
     "data": {
      "application/vnd.jupyter.widget-view+json": {
       "model_id": "4f35150713d049e5ab097c2664dea681",
       "version_major": 2,
       "version_minor": 0
      },
      "text/plain": [
       "Evaluating:   0%|          | 0/222 [00:00<?, ?it/s]"
      ]
     },
     "metadata": {},
     "output_type": "display_data"
    },
    {
     "data": {
      "application/vnd.jupyter.widget-view+json": {
       "model_id": "815e5395c3a54402967e826341cfdfbc",
       "version_major": 2,
       "version_minor": 0
      },
      "text/plain": [
       "Training:   0%|          | 0/1359 [00:00<?, ?it/s]"
      ]
     },
     "metadata": {},
     "output_type": "display_data"
    },
    {
     "data": {
      "application/vnd.jupyter.widget-view+json": {
       "model_id": "52db1390efeb488390c91fdd1973ab03",
       "version_major": 2,
       "version_minor": 0
      },
      "text/plain": [
       "Evaluating:   0%|          | 0/222 [00:00<?, ?it/s]"
      ]
     },
     "metadata": {},
     "output_type": "display_data"
    },
    {
     "data": {
      "application/vnd.jupyter.widget-view+json": {
       "model_id": "85fc6f6fed984ff6b7b7333b0bce2ca3",
       "version_major": 2,
       "version_minor": 0
      },
      "text/plain": [
       "Training:   0%|          | 0/1359 [00:00<?, ?it/s]"
      ]
     },
     "metadata": {},
     "output_type": "display_data"
    },
    {
     "data": {
      "application/vnd.jupyter.widget-view+json": {
       "model_id": "b24560b47e584153abc01c50a0c7397d",
       "version_major": 2,
       "version_minor": 0
      },
      "text/plain": [
       "Evaluating:   0%|          | 0/222 [00:00<?, ?it/s]"
      ]
     },
     "metadata": {},
     "output_type": "display_data"
    },
    {
     "data": {
      "application/vnd.jupyter.widget-view+json": {
       "model_id": "34c67841fbaa4565962f9266eaf7d182",
       "version_major": 2,
       "version_minor": 0
      },
      "text/plain": [
       "Training:   0%|          | 0/1359 [00:00<?, ?it/s]"
      ]
     },
     "metadata": {},
     "output_type": "display_data"
    },
    {
     "data": {
      "application/vnd.jupyter.widget-view+json": {
       "model_id": "bc0ba460a3ed44fab5422ab2ce8dbafe",
       "version_major": 2,
       "version_minor": 0
      },
      "text/plain": [
       "Evaluating:   0%|          | 0/222 [00:00<?, ?it/s]"
      ]
     },
     "metadata": {},
     "output_type": "display_data"
    },
    {
     "data": {
      "application/vnd.jupyter.widget-view+json": {
       "model_id": "21a48d672ab54fd1bbb9bae4f97b5184",
       "version_major": 2,
       "version_minor": 0
      },
      "text/plain": [
       "Training:   0%|          | 0/1359 [00:00<?, ?it/s]"
      ]
     },
     "metadata": {},
     "output_type": "display_data"
    },
    {
     "data": {
      "application/vnd.jupyter.widget-view+json": {
       "model_id": "6e8d13712b4f4c7f9c36b3cd95b7ce91",
       "version_major": 2,
       "version_minor": 0
      },
      "text/plain": [
       "Evaluating:   0%|          | 0/222 [00:00<?, ?it/s]"
      ]
     },
     "metadata": {},
     "output_type": "display_data"
    },
    {
     "data": {
      "application/vnd.jupyter.widget-view+json": {
       "model_id": "970879179ed54391a6b3a7af55381231",
       "version_major": 2,
       "version_minor": 0
      },
      "text/plain": [
       "Training:   0%|          | 0/1359 [00:00<?, ?it/s]"
      ]
     },
     "metadata": {},
     "output_type": "display_data"
    },
    {
     "data": {
      "application/vnd.jupyter.widget-view+json": {
       "model_id": "be1ca7dd09534f048a3d659497493511",
       "version_major": 2,
       "version_minor": 0
      },
      "text/plain": [
       "Evaluating:   0%|          | 0/222 [00:00<?, ?it/s]"
      ]
     },
     "metadata": {},
     "output_type": "display_data"
    },
    {
     "data": {
      "application/vnd.jupyter.widget-view+json": {
       "model_id": "8aeed73efb9943f0bc63c3bcfb858718",
       "version_major": 2,
       "version_minor": 0
      },
      "text/plain": [
       "Training:   0%|          | 0/1359 [00:00<?, ?it/s]"
      ]
     },
     "metadata": {},
     "output_type": "display_data"
    },
    {
     "data": {
      "application/vnd.jupyter.widget-view+json": {
       "model_id": "cca4f97231a14e2db665c2270440dd41",
       "version_major": 2,
       "version_minor": 0
      },
      "text/plain": [
       "Evaluating:   0%|          | 0/222 [00:00<?, ?it/s]"
      ]
     },
     "metadata": {},
     "output_type": "display_data"
    },
    {
     "data": {
      "application/vnd.jupyter.widget-view+json": {
       "model_id": "a0dd4d45eb64470e8c73def5c789413b",
       "version_major": 2,
       "version_minor": 0
      },
      "text/plain": [
       "Training:   0%|          | 0/1359 [00:00<?, ?it/s]"
      ]
     },
     "metadata": {},
     "output_type": "display_data"
    },
    {
     "data": {
      "application/vnd.jupyter.widget-view+json": {
       "model_id": "5271612280de4d7a9819f591f8536c86",
       "version_major": 2,
       "version_minor": 0
      },
      "text/plain": [
       "Evaluating:   0%|          | 0/222 [00:00<?, ?it/s]"
      ]
     },
     "metadata": {},
     "output_type": "display_data"
    },
    {
     "data": {
      "application/vnd.jupyter.widget-view+json": {
       "model_id": "821a33ba1b7847699ec3c3b31463ee7e",
       "version_major": 2,
       "version_minor": 0
      },
      "text/plain": [
       "Training:   0%|          | 0/1359 [00:00<?, ?it/s]"
      ]
     },
     "metadata": {},
     "output_type": "display_data"
    },
    {
     "data": {
      "application/vnd.jupyter.widget-view+json": {
       "model_id": "59fc16fe24ce4498aafa82937111ebe1",
       "version_major": 2,
       "version_minor": 0
      },
      "text/plain": [
       "Evaluating:   0%|          | 0/222 [00:00<?, ?it/s]"
      ]
     },
     "metadata": {},
     "output_type": "display_data"
    },
    {
     "data": {
      "application/vnd.jupyter.widget-view+json": {
       "model_id": "eec0c2e9128949fa83494e9ea7203a3e",
       "version_major": 2,
       "version_minor": 0
      },
      "text/plain": [
       "Training:   0%|          | 0/1359 [00:00<?, ?it/s]"
      ]
     },
     "metadata": {},
     "output_type": "display_data"
    },
    {
     "data": {
      "application/vnd.jupyter.widget-view+json": {
       "model_id": "9ad70b7455014999a3294b233ae3a235",
       "version_major": 2,
       "version_minor": 0
      },
      "text/plain": [
       "Evaluating:   0%|          | 0/222 [00:00<?, ?it/s]"
      ]
     },
     "metadata": {},
     "output_type": "display_data"
    },
    {
     "data": {
      "application/vnd.jupyter.widget-view+json": {
       "model_id": "ae71d73fbfcb430c84a5d0f2f4c6b295",
       "version_major": 2,
       "version_minor": 0
      },
      "text/plain": [
       "Training:   0%|          | 0/1359 [00:00<?, ?it/s]"
      ]
     },
     "metadata": {},
     "output_type": "display_data"
    },
    {
     "data": {
      "application/vnd.jupyter.widget-view+json": {
       "model_id": "2c373e62702f4e03a3b3c1b9ec6b7b3b",
       "version_major": 2,
       "version_minor": 0
      },
      "text/plain": [
       "Evaluating:   0%|          | 0/222 [00:00<?, ?it/s]"
      ]
     },
     "metadata": {},
     "output_type": "display_data"
    },
    {
     "data": {
      "application/vnd.jupyter.widget-view+json": {
       "model_id": "3580c6ea10344c52a797c5671c31b822",
       "version_major": 2,
       "version_minor": 0
      },
      "text/plain": [
       "Training:   0%|          | 0/1359 [00:00<?, ?it/s]"
      ]
     },
     "metadata": {},
     "output_type": "display_data"
    },
    {
     "data": {
      "application/vnd.jupyter.widget-view+json": {
       "model_id": "9ae91ec4e2b94c1d923c53a4b7a795b1",
       "version_major": 2,
       "version_minor": 0
      },
      "text/plain": [
       "Evaluating:   0%|          | 0/222 [00:00<?, ?it/s]"
      ]
     },
     "metadata": {},
     "output_type": "display_data"
    },
    {
     "data": {
      "application/vnd.jupyter.widget-view+json": {
       "model_id": "efdf4e2b4abf41429973284afb910679",
       "version_major": 2,
       "version_minor": 0
      },
      "text/plain": [
       "Training:   0%|          | 0/1359 [00:00<?, ?it/s]"
      ]
     },
     "metadata": {},
     "output_type": "display_data"
    },
    {
     "data": {
      "application/vnd.jupyter.widget-view+json": {
       "model_id": "0a46931057e44719897d518ca42ae292",
       "version_major": 2,
       "version_minor": 0
      },
      "text/plain": [
       "Evaluating:   0%|          | 0/222 [00:00<?, ?it/s]"
      ]
     },
     "metadata": {},
     "output_type": "display_data"
    },
    {
     "data": {
      "application/vnd.jupyter.widget-view+json": {
       "model_id": "6f507467024d4d358d8c7d9e80fe1a18",
       "version_major": 2,
       "version_minor": 0
      },
      "text/plain": [
       "Training:   0%|          | 0/1359 [00:00<?, ?it/s]"
      ]
     },
     "metadata": {},
     "output_type": "display_data"
    },
    {
     "data": {
      "application/vnd.jupyter.widget-view+json": {
       "model_id": "7d4bea443eb542aeb1eee81f37c03a09",
       "version_major": 2,
       "version_minor": 0
      },
      "text/plain": [
       "Evaluating:   0%|          | 0/222 [00:00<?, ?it/s]"
      ]
     },
     "metadata": {},
     "output_type": "display_data"
    },
    {
     "data": {
      "application/vnd.jupyter.widget-view+json": {
       "model_id": "a0899f2211c64ebeaebdbb093d4d896d",
       "version_major": 2,
       "version_minor": 0
      },
      "text/plain": [
       "Training:   0%|          | 0/1359 [00:00<?, ?it/s]"
      ]
     },
     "metadata": {},
     "output_type": "display_data"
    },
    {
     "data": {
      "application/vnd.jupyter.widget-view+json": {
       "model_id": "82a6410655c04b6bbc9c0898d534fb76",
       "version_major": 2,
       "version_minor": 0
      },
      "text/plain": [
       "Evaluating:   0%|          | 0/222 [00:00<?, ?it/s]"
      ]
     },
     "metadata": {},
     "output_type": "display_data"
    },
    {
     "data": {
      "application/vnd.jupyter.widget-view+json": {
       "model_id": "3515de0c3ba6469d92e93c71efe2fc3d",
       "version_major": 2,
       "version_minor": 0
      },
      "text/plain": [
       "Training:   0%|          | 0/1359 [00:00<?, ?it/s]"
      ]
     },
     "metadata": {},
     "output_type": "display_data"
    },
    {
     "data": {
      "application/vnd.jupyter.widget-view+json": {
       "model_id": "4437274ae8564d869f960b39cef2e68e",
       "version_major": 2,
       "version_minor": 0
      },
      "text/plain": [
       "Evaluating:   0%|          | 0/222 [00:00<?, ?it/s]"
      ]
     },
     "metadata": {},
     "output_type": "display_data"
    },
    {
     "data": {
      "application/vnd.jupyter.widget-view+json": {
       "model_id": "507938090fed40559c89df10939ff933",
       "version_major": 2,
       "version_minor": 0
      },
      "text/plain": [
       "Training:   0%|          | 0/1359 [00:00<?, ?it/s]"
      ]
     },
     "metadata": {},
     "output_type": "display_data"
    },
    {
     "data": {
      "application/vnd.jupyter.widget-view+json": {
       "model_id": "0872939c189a4c28a926d9f55a90443c",
       "version_major": 2,
       "version_minor": 0
      },
      "text/plain": [
       "Evaluating:   0%|          | 0/222 [00:00<?, ?it/s]"
      ]
     },
     "metadata": {},
     "output_type": "display_data"
    },
    {
     "data": {
      "application/vnd.jupyter.widget-view+json": {
       "model_id": "bc3a110276c9423cb677b4622cacefed",
       "version_major": 2,
       "version_minor": 0
      },
      "text/plain": [
       "Training:   0%|          | 0/1359 [00:00<?, ?it/s]"
      ]
     },
     "metadata": {},
     "output_type": "display_data"
    },
    {
     "data": {
      "application/vnd.jupyter.widget-view+json": {
       "model_id": "df715496b8754a96a289ff656f2c6060",
       "version_major": 2,
       "version_minor": 0
      },
      "text/plain": [
       "Evaluating:   0%|          | 0/222 [00:00<?, ?it/s]"
      ]
     },
     "metadata": {},
     "output_type": "display_data"
    },
    {
     "data": {
      "application/vnd.jupyter.widget-view+json": {
       "model_id": "95f68c38e94048f785ac1715898bd12a",
       "version_major": 2,
       "version_minor": 0
      },
      "text/plain": [
       "Training:   0%|          | 0/1359 [00:00<?, ?it/s]"
      ]
     },
     "metadata": {},
     "output_type": "display_data"
    },
    {
     "data": {
      "application/vnd.jupyter.widget-view+json": {
       "model_id": "e275a54a4b784111845feabd1eeaa30e",
       "version_major": 2,
       "version_minor": 0
      },
      "text/plain": [
       "Evaluating:   0%|          | 0/222 [00:00<?, ?it/s]"
      ]
     },
     "metadata": {},
     "output_type": "display_data"
    },
    {
     "data": {
      "application/vnd.jupyter.widget-view+json": {
       "model_id": "48befaac200542f0a016dc7f43d81297",
       "version_major": 2,
       "version_minor": 0
      },
      "text/plain": [
       "Training:   0%|          | 0/1359 [00:00<?, ?it/s]"
      ]
     },
     "metadata": {},
     "output_type": "display_data"
    },
    {
     "data": {
      "application/vnd.jupyter.widget-view+json": {
       "model_id": "05958ded78c349c79403ecf747632d72",
       "version_major": 2,
       "version_minor": 0
      },
      "text/plain": [
       "Evaluating:   0%|          | 0/222 [00:00<?, ?it/s]"
      ]
     },
     "metadata": {},
     "output_type": "display_data"
    },
    {
     "data": {
      "application/vnd.jupyter.widget-view+json": {
       "model_id": "4ff2f8930fcc4133866207a9a1feb840",
       "version_major": 2,
       "version_minor": 0
      },
      "text/plain": [
       "Training:   0%|          | 0/1359 [00:00<?, ?it/s]"
      ]
     },
     "metadata": {},
     "output_type": "display_data"
    },
    {
     "data": {
      "application/vnd.jupyter.widget-view+json": {
       "model_id": "09ce73d11aab43fb9a5fd59f6d542a98",
       "version_major": 2,
       "version_minor": 0
      },
      "text/plain": [
       "Evaluating:   0%|          | 0/222 [00:00<?, ?it/s]"
      ]
     },
     "metadata": {},
     "output_type": "display_data"
    },
    {
     "data": {
      "application/vnd.jupyter.widget-view+json": {
       "model_id": "79a08b17cbcb49d78d88701fb3a5edf0",
       "version_major": 2,
       "version_minor": 0
      },
      "text/plain": [
       "Training:   0%|          | 0/1359 [00:00<?, ?it/s]"
      ]
     },
     "metadata": {},
     "output_type": "display_data"
    },
    {
     "data": {
      "application/vnd.jupyter.widget-view+json": {
       "model_id": "646c49007fcd4ce4947fd9cc7106ee8c",
       "version_major": 2,
       "version_minor": 0
      },
      "text/plain": [
       "Evaluating:   0%|          | 0/222 [00:00<?, ?it/s]"
      ]
     },
     "metadata": {},
     "output_type": "display_data"
    },
    {
     "data": {
      "application/vnd.jupyter.widget-view+json": {
       "model_id": "c06f3cdb4bf6408ba463aa619667e6d4",
       "version_major": 2,
       "version_minor": 0
      },
      "text/plain": [
       "Training:   0%|          | 0/1359 [00:00<?, ?it/s]"
      ]
     },
     "metadata": {},
     "output_type": "display_data"
    },
    {
     "data": {
      "application/vnd.jupyter.widget-view+json": {
       "model_id": "5b85466767ca4c4b948e41de14c319c1",
       "version_major": 2,
       "version_minor": 0
      },
      "text/plain": [
       "Evaluating:   0%|          | 0/222 [00:00<?, ?it/s]"
      ]
     },
     "metadata": {},
     "output_type": "display_data"
    },
    {
     "data": {
      "application/vnd.jupyter.widget-view+json": {
       "model_id": "293442bf9d214bf18968539ed51a8e17",
       "version_major": 2,
       "version_minor": 0
      },
      "text/plain": [
       "Training:   0%|          | 0/1359 [00:00<?, ?it/s]"
      ]
     },
     "metadata": {},
     "output_type": "display_data"
    },
    {
     "data": {
      "application/vnd.jupyter.widget-view+json": {
       "model_id": "8de33522db534fafb19344b210f7f797",
       "version_major": 2,
       "version_minor": 0
      },
      "text/plain": [
       "Evaluating:   0%|          | 0/222 [00:00<?, ?it/s]"
      ]
     },
     "metadata": {},
     "output_type": "display_data"
    },
    {
     "data": {
      "application/vnd.jupyter.widget-view+json": {
       "model_id": "f4dab50d64534b29831eb82eb7a2380a",
       "version_major": 2,
       "version_minor": 0
      },
      "text/plain": [
       "Training:   0%|          | 0/1359 [00:00<?, ?it/s]"
      ]
     },
     "metadata": {},
     "output_type": "display_data"
    },
    {
     "data": {
      "application/vnd.jupyter.widget-view+json": {
       "model_id": "5d7d96d4bb194cb99934b5895c59a215",
       "version_major": 2,
       "version_minor": 0
      },
      "text/plain": [
       "Evaluating:   0%|          | 0/222 [00:00<?, ?it/s]"
      ]
     },
     "metadata": {},
     "output_type": "display_data"
    },
    {
     "data": {
      "application/vnd.jupyter.widget-view+json": {
       "model_id": "6f0d9a87995046a4a89621158fbfcc76",
       "version_major": 2,
       "version_minor": 0
      },
      "text/plain": [
       "Training:   0%|          | 0/1359 [00:00<?, ?it/s]"
      ]
     },
     "metadata": {},
     "output_type": "display_data"
    },
    {
     "data": {
      "application/vnd.jupyter.widget-view+json": {
       "model_id": "ad6f4b6df4794dc1ae2ce75d9b8d2c5d",
       "version_major": 2,
       "version_minor": 0
      },
      "text/plain": [
       "Evaluating:   0%|          | 0/222 [00:00<?, ?it/s]"
      ]
     },
     "metadata": {},
     "output_type": "display_data"
    },
    {
     "data": {
      "application/vnd.jupyter.widget-view+json": {
       "model_id": "368cb648a3fb487889e6bea2e28a3d47",
       "version_major": 2,
       "version_minor": 0
      },
      "text/plain": [
       "Training:   0%|          | 0/1359 [00:00<?, ?it/s]"
      ]
     },
     "metadata": {},
     "output_type": "display_data"
    },
    {
     "data": {
      "application/vnd.jupyter.widget-view+json": {
       "model_id": "fd20f2caf9584e6da16fed08605db464",
       "version_major": 2,
       "version_minor": 0
      },
      "text/plain": [
       "Evaluating:   0%|          | 0/222 [00:00<?, ?it/s]"
      ]
     },
     "metadata": {},
     "output_type": "display_data"
    },
    {
     "data": {
      "application/vnd.jupyter.widget-view+json": {
       "model_id": "3ab78abea54b49f6820e3047bbf74941",
       "version_major": 2,
       "version_minor": 0
      },
      "text/plain": [
       "Training:   0%|          | 0/1359 [00:00<?, ?it/s]"
      ]
     },
     "metadata": {},
     "output_type": "display_data"
    },
    {
     "data": {
      "application/vnd.jupyter.widget-view+json": {
       "model_id": "9b22f569df044dc997fc92fbe6485729",
       "version_major": 2,
       "version_minor": 0
      },
      "text/plain": [
       "Evaluating:   0%|          | 0/222 [00:00<?, ?it/s]"
      ]
     },
     "metadata": {},
     "output_type": "display_data"
    }
   ],
   "source": [
    "train_loader = pt.utils.data.DataLoader(train_dset, batch_size=8, shuffle=True, collate_fn=collate_fn, pin_memory=True, drop_last=True)\n",
    "test_loader = pt.utils.data.DataLoader(test_dset, batch_size=8, collate_fn=collate_fn, pin_memory=True, drop_last=True)\n",
    "\n",
    "criterion = nn.CrossEntropyLoss(ignore_index=-1, label_smoothing=.1)\n",
    "\n",
    "encoder = WordEncoder(mopiece.vocab_size(), mopiece.pad_id(), 256, ffn_hidden_dim=512, expansion_factor=4, spm_layers=6, suffix_depth=4, prefix_depth=4).to(device)\n",
    "parser = DependencyParser(256, dropout=.1).to(device)\n",
    "\n",
    "epochs = 30\n",
    "accumulate_grad = 2\n",
    "\n",
    "optim = pt.optim.AdamW([\n",
    "    {\"params\": encoder.parameters()},\n",
    "    {\"params\": parser.parameters()}\n",
    "], weight_decay=0.01, lr=3e-4)\n",
    "lr_scheduler = pt.optim.lr_scheduler.CosineAnnealingLR(optim, epochs)\n",
    "\n",
    "encoder.train()\n",
    "parser.train()\n",
    "\n",
    "train_losses = []\n",
    "test_losses = []\n",
    "test_accuracies = []\n",
    "for epoch in (pbar := trange(epochs, desc='Epoch')):\n",
    "    train_loss_sum = 0\n",
    "    optim.zero_grad()\n",
    "    for i, (prefix_ids, spm_ids, suffix_ids, labels) in enumerate(tqdm(train_loader, desc='Training', leave=False)):\n",
    "        prefix_ids = prefix_ids.to(device)\n",
    "        spm_ids = spm_ids.to(device)\n",
    "        suffix_ids = suffix_ids.to(device)\n",
    "        labels = labels.to(device)\n",
    "        \n",
    "        embeddings = encoder(prefix_ids, spm_ids, suffix_ids)\n",
    "        logits = parser(embeddings, labels != -1)\n",
    "\n",
    "        loss = criterion(logits.flatten(end_dim=-2), labels.flatten())\n",
    "        loss.backward()\n",
    "\n",
    "        if (i + 1) % accumulate_grad == 0:\n",
    "            optim.step()\n",
    "            optim.zero_grad()\n",
    "\n",
    "        train_loss_sum += loss.item()\n",
    "\n",
    "    train_loss = train_loss_sum / len(train_loader)\n",
    "    train_losses.append(train_loss)\n",
    "    with pt.no_grad():\n",
    "        test_loss_sum = 0.\n",
    "        hits = 0\n",
    "        total = 0\n",
    "        for prefix_ids, spm_ids, suffix_ids, labels in tqdm(test_loader, desc='Evaluating', leave=False):\n",
    "            prefix_ids = prefix_ids.to(device)\n",
    "            spm_ids = spm_ids.to(device)\n",
    "            suffix_ids = suffix_ids.to(device)\n",
    "            labels = labels.to(device)\n",
    "            \n",
    "            embeddings = encoder(prefix_ids, spm_ids, suffix_ids)\n",
    "            logits = parser(embeddings, labels != -1).flatten(end_dim=-2)\n",
    "\n",
    "            logits = logits.flatten(end_dim=-2)\n",
    "            labels = labels.flatten()\n",
    "\n",
    "            test_loss_sum += criterion(logits, labels).item()\n",
    "            hits += pt.sum(logits.argmax(-1) == labels).item()\n",
    "            total += pt.sum(labels != -1).item()\n",
    "\n",
    "    test_loss = test_loss_sum / len(test_loader)\n",
    "    test_losses.append(test_loss)\n",
    "    test_acc = hits / total\n",
    "    test_accuracies.append(test_acc)\n",
    "    pbar.set_postfix_str(f'train loss: {train_loss:.2f}, test loss: {test_loss:.2f}, test accuracy: {test_acc*100:.2f}%')"
   ]
  },
  {
   "cell_type": "code",
   "execution_count": 9,
   "id": "7330b92b",
   "metadata": {},
   "outputs": [],
   "source": [
    "pt.save(encoder.state_dict(), '____tree_encoder.pt')\n",
    "pt.save(parser.state_dict(), '____tree_parser.pt')"
   ]
  },
  {
   "cell_type": "code",
   "execution_count": 7,
   "id": "729b275b",
   "metadata": {},
   "outputs": [
    {
     "data": {
      "text/plain": [
       "[<matplotlib.lines.Line2D at 0x2951cbf4620>]"
      ]
     },
     "execution_count": 7,
     "metadata": {},
     "output_type": "execute_result"
    },
    {
     "data": {
      "image/png": "[encoded data removed]",
      "text/plain": [
       "<Figure size 640x480 with 1 Axes>"
      ]
     },
     "metadata": {},
     "output_type": "display_data"
    }
   ],
   "source": [
    "import matplotlib.pyplot as plt\n",
    "\n",
    "plt.plot(test_accuracies)"
   ]
  }
 ],
 "metadata": {
  "kernelspec": {
   "display_name": "Python 3",
   "language": "python",
   "name": "python3"
  },
  "language_info": {
   "codemirror_mode": {
    "name": "ipython",
    "version": 3
   },
   "file_extension": ".py",
   "mimetype": "text/x-python",
   "name": "python",
   "nbconvert_exporter": "python",
   "pygments_lexer": "ipython3",
   "version": "3.12.6"
  }
 },
 "nbformat": 4,
 "nbformat_minor": 5
}
