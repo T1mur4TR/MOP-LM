{
 "cells": [
  {
   "cell_type": "code",
   "execution_count": 1,
   "id": "e524701b",
   "metadata": {},
   "outputs": [],
   "source": [
    "from tokenizer import train_mopiece, MOPiece\n",
    "from word_autoencoder import WordEncoder, WordDecoder\n",
    "import torch as pt\n",
    "from torch import nn\n",
    "import polars as pl\n",
    "import regex as re\n",
    "from tqdm.notebook import trange, tqdm\n",
    "\n",
    "device = ('cuda' if pt.cuda.is_available() else 'mps' if pt.backends.mps.is_available() else 'cpu')"
   ]
  },
  {
   "cell_type": "code",
   "execution_count": 2,
   "id": "355d5849",
   "metadata": {},
   "outputs": [],
   "source": [
    "suffixes = pl.read_csv('data/morphynet/suffixes.csv')['suffix']\n",
    "prefixes = pl.read_csv('data/morphynet/prefixes.csv')['prefix']\n",
    "\n",
    "train_mopiece('____tokenizer', ['data/text/bible.txt'], prefixes, suffixes, 3000, spm_model_type='bpe')\n",
    "\n",
    "mopiece = MOPiece('____tokenizer')"
   ]
  },
  {
   "cell_type": "code",
   "execution_count": 3,
   "id": "e1836be5",
   "metadata": {},
   "outputs": [],
   "source": [
    "words = set()\n",
    "reg = re.compile(r'([^\\p{L}\\p{M}\\p{N}\\s]+|\\s)')\n",
    "with open('data/text/bible.txt', mode='r', encoding='utf8') as file:\n",
    "            for line in file.readlines():\n",
    "                for word in reg.split(line):\n",
    "                    if word == '' or word == ' ':\n",
    "                        continue\n",
    "                    word = word.lower()\n",
    "                    words.add(word)"
   ]
  },
  {
   "cell_type": "code",
   "execution_count": 4,
   "id": "c0d46ff3",
   "metadata": {},
   "outputs": [],
   "source": [
    "class WordDataset(pt.utils.data.Dataset):\n",
    "    def __init__(self, words, mopiece, device=None):\n",
    "        super().__init__()\n",
    "        bos_id, eos_id = mopiece.bos_id(), mopiece.eos_id()\n",
    "        self.words = []\n",
    "        for word in words:\n",
    "            prefix_ids, spm_ids, suffix_ids = mopiece.encode_word(word)\n",
    "            self.words.append((\n",
    "                pt.tensor([bos_id] + prefix_ids + [eos_id], dtype=pt.long, device=device), \n",
    "                pt.tensor([bos_id] + spm_ids    + [eos_id], dtype=pt.long, device=device), \n",
    "                pt.tensor([bos_id] + suffix_ids + [eos_id], dtype=pt.long, device=device)\n",
    "            ))\n",
    "        \n",
    "    def __len__(self):\n",
    "        return len(self.words)\n",
    "    \n",
    "    def __getitem__(self, index):\n",
    "        return self.words[index]\n",
    "    \n",
    "class SequenceCrossEntropyLoss(nn.CrossEntropyLoss):\n",
    "    def __init__(self, *args, **kwargs):\n",
    "        super().__init__(*args, **kwargs, reduction='sum')\n",
    "\n",
    "    def forward(self, prefix_logits, spm_logits, suffix_logits, prefix_ids, spm_ids, suffix_ids):\n",
    "        loss = 0.\n",
    "        for prefix_logits_seq, spm_logits_seq, suffix_logits_seq, prefix_ids_seq, spm_ids_seq, suffix_ids_seq in zip(prefix_logits, spm_logits, suffix_logits, prefix_ids, spm_ids, suffix_ids):\n",
    "            loss += (super().forward(prefix_logits_seq, prefix_ids_seq) + super().forward(spm_logits_seq, spm_ids_seq) + super().forward(suffix_logits_seq, suffix_ids_seq)) / (len(prefix_ids_seq) + len(spm_ids_seq) + len(suffix_ids_seq))\n",
    "        return loss / prefix_logits.shape[0]\n",
    "    \n",
    "dset = WordDataset(words, mopiece, device=device)\n",
    "\n",
    "def collate_fn(batch):\n",
    "    return (pt.nn.utils.rnn.pad_sequence([prefix for prefix, spm, suffix in batch], batch_first=True, padding_value=mopiece.pad_id(), padding_side='right'),\n",
    "            pt.nn.utils.rnn.pad_sequence([spm    for prefix, spm, suffix in batch], batch_first=True, padding_value=mopiece.pad_id(), padding_side='right'),\n",
    "            pt.nn.utils.rnn.pad_sequence([suffix for prefix, spm, suffix in batch], batch_first=True, padding_value=mopiece.pad_id(), padding_side='right'))"
   ]
  },
  {
   "cell_type": "code",
   "execution_count": 5,
   "id": "411c4a9e",
   "metadata": {},
   "outputs": [],
   "source": [
    "encoder = WordEncoder(mopiece.vocab_size(), mopiece.pad_id(), 128, ffn_hidden_dim=256, expansion_factor=4).to(device)\n",
    "decoder = WordDecoder(mopiece.vocab_size(), mopiece.pad_id(), mopiece.bos_id(), mopiece.eos_id(), 128, num_layers=6).to(device)"
   ]
  },
  {
   "cell_type": "code",
   "execution_count": 6,
   "id": "abbddc06",
   "metadata": {},
   "outputs": [
    {
     "data": {
      "application/vnd.jupyter.widget-view+json": {
       "model_id": "c175c30a11c74733939f8b344c4c2d74",
       "version_major": 2,
       "version_minor": 0
      },
      "text/plain": [
       "Epoch:   0%|          | 0/30 [00:00<?, ?it/s]"
      ]
     },
     "metadata": {},
     "output_type": "display_data"
    },
    {
     "data": {
      "application/vnd.jupyter.widget-view+json": {
       "model_id": "cf334a3cf60a4a9399948d9f5312d8df",
       "version_major": 2,
       "version_minor": 0
      },
      "text/plain": [
       "Training:   0%|          | 0/101 [00:00<?, ?it/s]"
      ]
     },
     "metadata": {},
     "output_type": "display_data"
    },
    {
     "data": {
      "application/vnd.jupyter.widget-view+json": {
       "model_id": "9088efc1e63b4de6bdef5dd66268cbfa",
       "version_major": 2,
       "version_minor": 0
      },
      "text/plain": [
       "Training:   0%|          | 0/101 [00:00<?, ?it/s]"
      ]
     },
     "metadata": {},
     "output_type": "display_data"
    },
    {
     "ename": "KeyboardInterrupt",
     "evalue": "",
     "output_type": "error",
     "traceback": [
      "\u001b[1;31m---------------------------------------------------------------------------\u001b[0m",
      "\u001b[1;31mKeyboardInterrupt\u001b[0m                         Traceback (most recent call last)",
      "Cell \u001b[1;32mIn[6], line 26\u001b[0m\n\u001b[0;32m     22\u001b[0m prefix_logits, spm_logits, suffix_logits \u001b[38;5;241m=\u001b[39m decoder(prefix_ids[\u001b[38;5;241m.\u001b[39m\u001b[38;5;241m.\u001b[39m\u001b[38;5;241m.\u001b[39m, :\u001b[38;5;241m-\u001b[39m\u001b[38;5;241m1\u001b[39m], spm_ids[\u001b[38;5;241m.\u001b[39m\u001b[38;5;241m.\u001b[39m\u001b[38;5;241m.\u001b[39m, :\u001b[38;5;241m-\u001b[39m\u001b[38;5;241m1\u001b[39m], suffix_ids[\u001b[38;5;241m.\u001b[39m\u001b[38;5;241m.\u001b[39m\u001b[38;5;241m.\u001b[39m, :\u001b[38;5;241m-\u001b[39m\u001b[38;5;241m1\u001b[39m], embedding)\n\u001b[0;32m     24\u001b[0m loss \u001b[38;5;241m=\u001b[39m criterion(prefix_logits, spm_logits, suffix_logits, prefix_ids[\u001b[38;5;241m.\u001b[39m\u001b[38;5;241m.\u001b[39m\u001b[38;5;241m.\u001b[39m, \u001b[38;5;241m1\u001b[39m:], spm_ids[\u001b[38;5;241m.\u001b[39m\u001b[38;5;241m.\u001b[39m\u001b[38;5;241m.\u001b[39m, \u001b[38;5;241m1\u001b[39m:], suffix_ids[\u001b[38;5;241m.\u001b[39m\u001b[38;5;241m.\u001b[39m\u001b[38;5;241m.\u001b[39m, \u001b[38;5;241m1\u001b[39m:])\n\u001b[1;32m---> 26\u001b[0m \u001b[43mloss\u001b[49m\u001b[38;5;241;43m.\u001b[39;49m\u001b[43mbackward\u001b[49m\u001b[43m(\u001b[49m\u001b[43m)\u001b[49m\n\u001b[0;32m     27\u001b[0m optim\u001b[38;5;241m.\u001b[39mstep()\n\u001b[0;32m     29\u001b[0m log_perplexity_sum \u001b[38;5;241m+\u001b[39m\u001b[38;5;241m=\u001b[39m loss\u001b[38;5;241m.\u001b[39mitem()\n",
      "File \u001b[1;32mc:\\Users\\ATRTi\\AppData\\Local\\Programs\\Python\\Python312\\Lib\\site-packages\\torch\\_tensor.py:626\u001b[0m, in \u001b[0;36mTensor.backward\u001b[1;34m(self, gradient, retain_graph, create_graph, inputs)\u001b[0m\n\u001b[0;32m    616\u001b[0m \u001b[38;5;28;01mif\u001b[39;00m has_torch_function_unary(\u001b[38;5;28mself\u001b[39m):\n\u001b[0;32m    617\u001b[0m     \u001b[38;5;28;01mreturn\u001b[39;00m handle_torch_function(\n\u001b[0;32m    618\u001b[0m         Tensor\u001b[38;5;241m.\u001b[39mbackward,\n\u001b[0;32m    619\u001b[0m         (\u001b[38;5;28mself\u001b[39m,),\n\u001b[1;32m   (...)\u001b[0m\n\u001b[0;32m    624\u001b[0m         inputs\u001b[38;5;241m=\u001b[39minputs,\n\u001b[0;32m    625\u001b[0m     )\n\u001b[1;32m--> 626\u001b[0m \u001b[43mtorch\u001b[49m\u001b[38;5;241;43m.\u001b[39;49m\u001b[43mautograd\u001b[49m\u001b[38;5;241;43m.\u001b[39;49m\u001b[43mbackward\u001b[49m\u001b[43m(\u001b[49m\n\u001b[0;32m    627\u001b[0m \u001b[43m    \u001b[49m\u001b[38;5;28;43mself\u001b[39;49m\u001b[43m,\u001b[49m\u001b[43m \u001b[49m\u001b[43mgradient\u001b[49m\u001b[43m,\u001b[49m\u001b[43m \u001b[49m\u001b[43mretain_graph\u001b[49m\u001b[43m,\u001b[49m\u001b[43m \u001b[49m\u001b[43mcreate_graph\u001b[49m\u001b[43m,\u001b[49m\u001b[43m \u001b[49m\u001b[43minputs\u001b[49m\u001b[38;5;241;43m=\u001b[39;49m\u001b[43minputs\u001b[49m\n\u001b[0;32m    628\u001b[0m \u001b[43m\u001b[49m\u001b[43m)\u001b[49m\n",
      "File \u001b[1;32mc:\\Users\\ATRTi\\AppData\\Local\\Programs\\Python\\Python312\\Lib\\site-packages\\torch\\autograd\\__init__.py:347\u001b[0m, in \u001b[0;36mbackward\u001b[1;34m(tensors, grad_tensors, retain_graph, create_graph, grad_variables, inputs)\u001b[0m\n\u001b[0;32m    342\u001b[0m     retain_graph \u001b[38;5;241m=\u001b[39m create_graph\n\u001b[0;32m    344\u001b[0m \u001b[38;5;66;03m# The reason we repeat the same comment below is that\u001b[39;00m\n\u001b[0;32m    345\u001b[0m \u001b[38;5;66;03m# some Python versions print out the first line of a multi-line function\u001b[39;00m\n\u001b[0;32m    346\u001b[0m \u001b[38;5;66;03m# calls in the traceback and some print out the last line\u001b[39;00m\n\u001b[1;32m--> 347\u001b[0m \u001b[43m_engine_run_backward\u001b[49m\u001b[43m(\u001b[49m\n\u001b[0;32m    348\u001b[0m \u001b[43m    \u001b[49m\u001b[43mtensors\u001b[49m\u001b[43m,\u001b[49m\n\u001b[0;32m    349\u001b[0m \u001b[43m    \u001b[49m\u001b[43mgrad_tensors_\u001b[49m\u001b[43m,\u001b[49m\n\u001b[0;32m    350\u001b[0m \u001b[43m    \u001b[49m\u001b[43mretain_graph\u001b[49m\u001b[43m,\u001b[49m\n\u001b[0;32m    351\u001b[0m \u001b[43m    \u001b[49m\u001b[43mcreate_graph\u001b[49m\u001b[43m,\u001b[49m\n\u001b[0;32m    352\u001b[0m \u001b[43m    \u001b[49m\u001b[43minputs\u001b[49m\u001b[43m,\u001b[49m\n\u001b[0;32m    353\u001b[0m \u001b[43m    \u001b[49m\u001b[43mallow_unreachable\u001b[49m\u001b[38;5;241;43m=\u001b[39;49m\u001b[38;5;28;43;01mTrue\u001b[39;49;00m\u001b[43m,\u001b[49m\n\u001b[0;32m    354\u001b[0m \u001b[43m    \u001b[49m\u001b[43maccumulate_grad\u001b[49m\u001b[38;5;241;43m=\u001b[39;49m\u001b[38;5;28;43;01mTrue\u001b[39;49;00m\u001b[43m,\u001b[49m\n\u001b[0;32m    355\u001b[0m \u001b[43m\u001b[49m\u001b[43m)\u001b[49m\n",
      "File \u001b[1;32mc:\\Users\\ATRTi\\AppData\\Local\\Programs\\Python\\Python312\\Lib\\site-packages\\torch\\autograd\\graph.py:823\u001b[0m, in \u001b[0;36m_engine_run_backward\u001b[1;34m(t_outputs, *args, **kwargs)\u001b[0m\n\u001b[0;32m    821\u001b[0m     unregister_hooks \u001b[38;5;241m=\u001b[39m _register_logging_hooks_on_whole_graph(t_outputs)\n\u001b[0;32m    822\u001b[0m \u001b[38;5;28;01mtry\u001b[39;00m:\n\u001b[1;32m--> 823\u001b[0m     \u001b[38;5;28;01mreturn\u001b[39;00m \u001b[43mVariable\u001b[49m\u001b[38;5;241;43m.\u001b[39;49m\u001b[43m_execution_engine\u001b[49m\u001b[38;5;241;43m.\u001b[39;49m\u001b[43mrun_backward\u001b[49m\u001b[43m(\u001b[49m\u001b[43m  \u001b[49m\u001b[38;5;66;43;03m# Calls into the C++ engine to run the backward pass\u001b[39;49;00m\n\u001b[0;32m    824\u001b[0m \u001b[43m        \u001b[49m\u001b[43mt_outputs\u001b[49m\u001b[43m,\u001b[49m\u001b[43m \u001b[49m\u001b[38;5;241;43m*\u001b[39;49m\u001b[43margs\u001b[49m\u001b[43m,\u001b[49m\u001b[43m \u001b[49m\u001b[38;5;241;43m*\u001b[39;49m\u001b[38;5;241;43m*\u001b[39;49m\u001b[43mkwargs\u001b[49m\n\u001b[0;32m    825\u001b[0m \u001b[43m    \u001b[49m\u001b[43m)\u001b[49m  \u001b[38;5;66;03m# Calls into the C++ engine to run the backward pass\u001b[39;00m\n\u001b[0;32m    826\u001b[0m \u001b[38;5;28;01mfinally\u001b[39;00m:\n\u001b[0;32m    827\u001b[0m     \u001b[38;5;28;01mif\u001b[39;00m attach_logging_hooks:\n",
      "\u001b[1;31mKeyboardInterrupt\u001b[0m: "
     ]
    }
   ],
   "source": [
    "criterion = SequenceCrossEntropyLoss(ignore_index=mopiece.pad_id())\n",
    "\n",
    "epochs = 30\n",
    "batch_size = 128\n",
    "\n",
    "loader = pt.utils.data.DataLoader(dset, batch_size, shuffle=True, drop_last=True, collate_fn=collate_fn)\n",
    "\n",
    "optim = pt.optim.AdamW([{\"params\": encoder.parameters()}, {\"params\": decoder.parameters()}])\n",
    "lr_scheduler = pt.optim.lr_scheduler.CosineAnnealingLR(optim, epochs)\n",
    "\n",
    "encoder.train()\n",
    "decoder.train()\n",
    "\n",
    "log_perplexities = []\n",
    "for epoch in (pbar := trange(epochs, desc='Epoch')):\n",
    "    log_perplexity_sum = 0.\n",
    "    for prefix_ids, spm_ids, suffix_ids in tqdm(loader, desc='Training', leave=False):\n",
    "        optim.zero_grad()\n",
    "\n",
    "        embedding = encoder(prefix_ids, spm_ids, suffix_ids)\n",
    "\n",
    "        prefix_logits, spm_logits, suffix_logits = decoder(prefix_ids[..., :-1], spm_ids[..., :-1], suffix_ids[..., :-1], embedding)\n",
    "\n",
    "        loss = criterion(prefix_logits, spm_logits, suffix_logits, prefix_ids[..., 1:], spm_ids[..., 1:], suffix_ids[..., 1:])\n",
    "\n",
    "        loss.backward()\n",
    "        optim.step()\n",
    "\n",
    "        log_perplexity_sum += loss.item()\n",
    "\n",
    "    log_perplexity = log_perplexity_sum / len(loader)\n",
    "    log_perplexities.append(log_perplexity)\n",
    "    pbar.set_postfix_str(f'log-perplexity: {log_perplexity:.2f}')\n",
    "        \n"
   ]
  },
  {
   "cell_type": "code",
   "execution_count": 7,
   "id": "4106db21",
   "metadata": {},
   "outputs": [
    {
     "name": "stdout",
     "output_type": "stream",
     "text": [
      "input:\n",
      "[0, 1] [0, 2108, 1] [0, 137, 1]\n",
      "thunders\n",
      "torch.bool\n",
      "torch.bool\n",
      "\n",
      "output:\n",
      "[0, 602, 1] [0, 1] [0, 387, 1]\n",
      "pros\n"
     ]
    }
   ],
   "source": [
    "from random import sample\n",
    "\n",
    "with pt.no_grad():\n",
    "    encoder.eval()\n",
    "    decoder.eval()\n",
    "    bos_id, eos_id = mopiece.bos_id(), mopiece.eos_id()\n",
    "\n",
    "    word = sample(list(words), 1)[0]\n",
    "    prefix_ids, spm_ids, suffix_ids = map(lambda x: [bos_id] + x + [eos_id], mopiece.encode_word(word))\n",
    "    print('input:')\n",
    "    print(prefix_ids, spm_ids, suffix_ids)\n",
    "    print(word)\n",
    "\n",
    "\n",
    "    embedding = encoder(pt.tensor(prefix_ids, dtype=pt.long, device=device), pt.tensor(spm_ids, dtype=pt.long, device=device), pt.tensor(suffix_ids, dtype=pt.long, device=device))\n",
    "\n",
    "    out_prefix_ids, out_spm_ids, out_suffix_ids = decoder.inference(embedding)\n",
    "    print('\\noutput:')\n",
    "    print(out_prefix_ids, out_spm_ids, out_suffix_ids)\n",
    "    print(mopiece.decode_word(out_prefix_ids, out_spm_ids, out_suffix_ids))"
   ]
  }
 ],
 "metadata": {
  "kernelspec": {
   "display_name": "Python 3",
   "language": "python",
   "name": "python3"
  },
  "language_info": {
   "codemirror_mode": {
    "name": "ipython",
    "version": 3
   },
   "file_extension": ".py",
   "mimetype": "text/x-python",
   "name": "python",
   "nbconvert_exporter": "python",
   "pygments_lexer": "ipython3",
   "version": "3.12.6"
  }
 },
 "nbformat": 4,
 "nbformat_minor": 5
}
