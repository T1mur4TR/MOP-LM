{
 "cells": [
  {
   "cell_type": "code",
   "execution_count": 1,
   "id": "e524701b",
   "metadata": {},
   "outputs": [],
   "source": [
    "from tokenizer import train_mopiece, MOPiece\n",
    "from word_autoencoder import WordEncoder, WordDecoder\n",
    "import torch as pt\n",
    "from torch import nn\n",
    "import polars as pl\n",
    "import regex as re\n",
    "from tqdm.notebook import trange, tqdm\n",
    "\n",
    "device = ('cuda' if pt.cuda.is_available() else 'mps' if pt.backends.mps.is_available() else 'cpu')"
   ]
  },
  {
   "cell_type": "code",
   "execution_count": 2,
   "id": "355d5849",
   "metadata": {},
   "outputs": [],
   "source": [
    "suffixes = pl.read_csv('data/morphynet/suffixes.csv')['suffix']\n",
    "prefixes = pl.read_csv('data/morphynet/prefixes.csv')['prefix']\n",
    "\n",
    "train_mopiece('____tokenizer', ['data/text/bible.txt'], prefixes, suffixes, 13113, spm_model_type='bpe')\n",
    "\n",
    "mopiece = MOPiece('____tokenizer')"
   ]
  },
  {
   "cell_type": "code",
   "execution_count": 3,
   "id": "e1836be5",
   "metadata": {},
   "outputs": [],
   "source": [
    "words = set()\n",
    "reg = re.compile(r'([^\\p{L}\\p{M}\\p{N}\\s]+|\\s)')\n",
    "with open('data/text/bible.txt', mode='r', encoding='utf8') as file:\n",
    "            for line in file.readlines():\n",
    "                for word in reg.split(line):\n",
    "                    if word == '' or word == ' ':\n",
    "                        continue\n",
    "                    word = word.lower()\n",
    "                    words.add(word)"
   ]
  },
  {
   "cell_type": "code",
   "execution_count": 5,
   "id": "c0d46ff3",
   "metadata": {},
   "outputs": [],
   "source": [
    "class WordDataset(pt.utils.data.Dataset):\n",
    "    def __init__(self, words, mopiece, device=None):\n",
    "        super().__init__()\n",
    "        bos_id, eos_id = mopiece.bos_id(), mopiece.eos_id()\n",
    "        self.words = []\n",
    "        for word in words:\n",
    "            prefix_ids, spm_ids, suffix_ids = mopiece.encode_word(word)\n",
    "            self.words.append((\n",
    "                pt.tensor([bos_id] + prefix_ids + [eos_id], dtype=pt.long, device=device), \n",
    "                pt.tensor([bos_id] + spm_ids    + [eos_id], dtype=pt.long, device=device), \n",
    "                pt.tensor([bos_id] + suffix_ids + [eos_id], dtype=pt.long, device=device)\n",
    "            ))\n",
    "        \n",
    "    def __len__(self):\n",
    "        return len(self.words)\n",
    "    \n",
    "    def __getitem__(self, index):\n",
    "        return self.words[index]\n",
    "    \n",
    "class SequenceCrossEntropyLoss(nn.CrossEntropyLoss):\n",
    "    def __init__(self, *args, **kwargs):\n",
    "        super().__init__(*args, **kwargs, reduction='sum')\n",
    "\n",
    "    def forward(self, prefix_logits, spm_logits, suffix_logits, prefix_ids, spm_ids, suffix_ids):\n",
    "        loss = 0.\n",
    "        for prefix_logits_seq, spm_logits_seq, suffix_logits_seq, prefix_ids_seq, spm_ids_seq, suffix_ids_seq in zip(prefix_logits, spm_logits, suffix_logits, prefix_ids, spm_ids, suffix_ids):\n",
    "            loss += (super().forward(prefix_logits_seq, prefix_ids_seq) + super().forward(spm_logits_seq, spm_ids_seq) + super().forward(suffix_logits_seq, suffix_ids_seq)) / len(spm_ids_seq)\n",
    "        return loss / prefix_logits.shape[0]\n",
    "    \n",
    "dset = WordDataset(words, mopiece, device=device)\n",
    "\n",
    "def collate_fn(batch):\n",
    "    return (pt.nn.utils.rnn.pad_sequence([prefix for prefix, spm, suffix in batch], batch_first=True, padding_value=mopiece.pad_id(), padding_side='right'),\n",
    "            pt.nn.utils.rnn.pad_sequence([spm    for prefix, spm, suffix in batch], batch_first=True, padding_value=mopiece.pad_id(), padding_side='right'),\n",
    "            pt.nn.utils.rnn.pad_sequence([suffix for prefix, spm, suffix in batch], batch_first=True, padding_value=mopiece.pad_id(), padding_side='right'))"
   ]
  },
  {
   "cell_type": "code",
   "execution_count": 6,
   "id": "411c4a9e",
   "metadata": {},
   "outputs": [],
   "source": [
    "encoder = WordEncoder(mopiece.vocab_size(), mopiece.pad_id(), 256).to(device)\n",
    "decoder = WordDecoder(mopiece.vocab_size(), mopiece.pad_id(), mopiece.bos_id(), mopiece.eos_id(), 256).to(device)"
   ]
  },
  {
   "cell_type": "code",
   "execution_count": 7,
   "id": "abbddc06",
   "metadata": {},
   "outputs": [
    {
     "data": {
      "application/vnd.jupyter.widget-view+json": {
       "model_id": "65b8c169cbb8416789e4f3fb5c54877f",
       "version_major": 2,
       "version_minor": 0
      },
      "text/plain": [
       "Epoch:   0%|          | 0/10 [00:00<?, ?it/s]"
      ]
     },
     "metadata": {},
     "output_type": "display_data"
    },
    {
     "data": {
      "application/vnd.jupyter.widget-view+json": {
       "model_id": "f70e78151b1743b2a51153c85e752be5",
       "version_major": 2,
       "version_minor": 0
      },
      "text/plain": [
       "Training:   0%|          | 0/101 [00:00<?, ?it/s]"
      ]
     },
     "metadata": {},
     "output_type": "display_data"
    },
    {
     "data": {
      "application/vnd.jupyter.widget-view+json": {
       "model_id": "a9a748aee254410d9b2ef00d7c7d8d8e",
       "version_major": 2,
       "version_minor": 0
      },
      "text/plain": [
       "Training:   0%|          | 0/101 [00:00<?, ?it/s]"
      ]
     },
     "metadata": {},
     "output_type": "display_data"
    },
    {
     "data": {
      "application/vnd.jupyter.widget-view+json": {
       "model_id": "3f08a8e257814112bc4ad2fc44b83074",
       "version_major": 2,
       "version_minor": 0
      },
      "text/plain": [
       "Training:   0%|          | 0/101 [00:00<?, ?it/s]"
      ]
     },
     "metadata": {},
     "output_type": "display_data"
    },
    {
     "data": {
      "application/vnd.jupyter.widget-view+json": {
       "model_id": "7ab96d6206c54d2ca6b77fe25ad5f800",
       "version_major": 2,
       "version_minor": 0
      },
      "text/plain": [
       "Training:   0%|          | 0/101 [00:00<?, ?it/s]"
      ]
     },
     "metadata": {},
     "output_type": "display_data"
    },
    {
     "data": {
      "application/vnd.jupyter.widget-view+json": {
       "model_id": "051c4dea76c041ac81a1859d7ad9943d",
       "version_major": 2,
       "version_minor": 0
      },
      "text/plain": [
       "Training:   0%|          | 0/101 [00:00<?, ?it/s]"
      ]
     },
     "metadata": {},
     "output_type": "display_data"
    },
    {
     "data": {
      "application/vnd.jupyter.widget-view+json": {
       "model_id": "f4277cb4b28d4f59863254c0c70f56ce",
       "version_major": 2,
       "version_minor": 0
      },
      "text/plain": [
       "Training:   0%|          | 0/101 [00:00<?, ?it/s]"
      ]
     },
     "metadata": {},
     "output_type": "display_data"
    },
    {
     "data": {
      "application/vnd.jupyter.widget-view+json": {
       "model_id": "0227b515328a4c388ac40fb78d5bde19",
       "version_major": 2,
       "version_minor": 0
      },
      "text/plain": [
       "Training:   0%|          | 0/101 [00:00<?, ?it/s]"
      ]
     },
     "metadata": {},
     "output_type": "display_data"
    },
    {
     "data": {
      "application/vnd.jupyter.widget-view+json": {
       "model_id": "63309e4a641d4dc394dc6cd63401bea8",
       "version_major": 2,
       "version_minor": 0
      },
      "text/plain": [
       "Training:   0%|          | 0/101 [00:00<?, ?it/s]"
      ]
     },
     "metadata": {},
     "output_type": "display_data"
    },
    {
     "data": {
      "application/vnd.jupyter.widget-view+json": {
       "model_id": "be4e2728fe854446b39171314525282f",
       "version_major": 2,
       "version_minor": 0
      },
      "text/plain": [
       "Training:   0%|          | 0/101 [00:00<?, ?it/s]"
      ]
     },
     "metadata": {},
     "output_type": "display_data"
    },
    {
     "data": {
      "application/vnd.jupyter.widget-view+json": {
       "model_id": "7da6d2c97a97483785467c8df11ca885",
       "version_major": 2,
       "version_minor": 0
      },
      "text/plain": [
       "Training:   0%|          | 0/101 [00:00<?, ?it/s]"
      ]
     },
     "metadata": {},
     "output_type": "display_data"
    }
   ],
   "source": [
    "criterion = SequenceCrossEntropyLoss(ignore_index=mopiece.pad_id())\n",
    "\n",
    "epochs = 10\n",
    "batch_size = 128\n",
    "\n",
    "loader = pt.utils.data.DataLoader(dset, batch_size, shuffle=True, drop_last=True, collate_fn=collate_fn)\n",
    "\n",
    "optim = pt.optim.AdamW([{\"params\": encoder.parameters()}, {\"params\": decoder.parameters()}])\n",
    "lr_scheduler = pt.optim.lr_scheduler.CosineAnnealingLR(optim, epochs)\n",
    "\n",
    "encoder.train()\n",
    "decoder.train()\n",
    "\n",
    "log_perplexities = []\n",
    "for epoch in (pbar := trange(epochs, desc='Epoch')):\n",
    "    log_perplexity_sum = 0.\n",
    "    for prefix_ids, spm_ids, suffix_ids in tqdm(loader, desc='Training', leave=False):\n",
    "        optim.zero_grad()\n",
    "\n",
    "        embedding = encoder(prefix_ids, spm_ids, suffix_ids)\n",
    "\n",
    "        prefix_logits, spm_logits, suffix_logits = decoder(prefix_ids[..., :-1], spm_ids[..., :-1], suffix_ids[..., :-1], embedding)\n",
    "\n",
    "        loss = criterion(prefix_logits, spm_logits, suffix_logits, prefix_ids[..., 1:], spm_ids[..., 1:], suffix_ids[..., 1:])\n",
    "\n",
    "        loss.backward()\n",
    "        optim.step()\n",
    "\n",
    "        log_perplexity_sum += loss.item()\n",
    "\n",
    "    log_perplexity = log_perplexity_sum / len(loader)\n",
    "    log_perplexities.append(log_perplexity)\n",
    "    pbar.set_postfix_str(f'log-perplexity: {log_perplexity:.2f}')\n",
    "        \n"
   ]
  },
  {
   "cell_type": "code",
   "execution_count": 13,
   "id": "4106db21",
   "metadata": {},
   "outputs": [
    {
     "name": "stdout",
     "output_type": "stream",
     "text": [
      "jesus\n",
      "[0, 170, 1] [0, 7539, 1] [0, 220, 220, 1]\n",
      "conhezroinin\n"
     ]
    }
   ],
   "source": [
    "with pt.no_grad():\n",
    "    encoder.eval()\n",
    "    decoder.eval()\n",
    "\n",
    "    word = input()\n",
    "    print(word)\n",
    "    prefix_ids, spm_ids, suffix_ids = mopiece.encode_word(word)\n",
    "    bos_id, eos_id = mopiece.bos_id(), mopiece.eos_id()\n",
    "    embedding = encoder(pt.tensor(prefix_ids, dtype=pt.long, device=device), pt.tensor(spm_ids, dtype=pt.long, device=device), pt.tensor(suffix_ids, dtype=pt.long, device=device))\n",
    "    out_prefix_ids, out_spm_ids, out_suffix_ids = decoder.inference(embedding)\n",
    "    print(out_prefix_ids, out_spm_ids, out_suffix_ids)\n",
    "    print(mopiece.decode_word(out_prefix_ids, out_spm_ids, out_suffix_ids))"
   ]
  }
 ],
 "metadata": {
  "kernelspec": {
   "display_name": "Python 3",
   "language": "python",
   "name": "python3"
  },
  "language_info": {
   "codemirror_mode": {
    "name": "ipython",
    "version": 3
   },
   "file_extension": ".py",
   "mimetype": "text/x-python",
   "name": "python",
   "nbconvert_exporter": "python",
   "pygments_lexer": "ipython3",
   "version": "3.12.6"
  }
 },
 "nbformat": 4,
 "nbformat_minor": 5
}
