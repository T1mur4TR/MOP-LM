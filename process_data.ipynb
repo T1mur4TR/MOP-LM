{
 "cells": [
  {
   "cell_type": "code",
   "execution_count": 109,
   "metadata": {},
   "outputs": [],
   "source": [
    "import polars as pl\n",
    "\n",
    "df = pl.read_csv('data/eng.derivational.v1.tsv', separator='\\t', has_header=False, schema={\"source\": pl.String, \"target\": pl.String, \"source POS\": pl.String, \"target POS\": pl.String, \"affix\": pl.String, \"type\": pl.String})"
   ]
  },
  {
   "cell_type": "code",
   "execution_count": 110,
   "metadata": {},
   "outputs": [],
   "source": [
    "df = df.select(pl.col('target').str.to_lowercase(), pl.col('source').str.to_lowercase(), pl.col('affix').str.to_lowercase().str.replace('#etymology_\\\\d', ''), 'type')\n",
    "df = df.filter((pl.col('target') != pl.col('source')) & ~pl.col('target').str.contains('[^a-z]') & ~pl.col('source').str.contains('[^a-z]'))"
   ]
  },
  {
   "cell_type": "code",
   "execution_count": 111,
   "metadata": {},
   "outputs": [],
   "source": [
    "prefixes = df.filter((pl.col('type') == 'prefix') & (pl.col('affix').str.len_chars() > 1) & ~pl.col('affix').str.contains('[^a-z]')).select(pl.col('affix').alias('prefix')).unique().sort(by='prefix')\n",
    "prefixes.write_csv('data/prefixes.csv')"
   ]
  },
  {
   "cell_type": "code",
   "execution_count": 112,
   "metadata": {},
   "outputs": [],
   "source": [
    "suffixes = df.filter((pl.col('type') == 'suffix') & ~pl.col('affix').is_in(['z', 'x', 'v', 'i']) & ~pl.col('affix').str.contains('[^a-z]')).select(pl.col('affix').alias('suffix')).unique().sort(by='suffix')\n",
    "suffixes.write_csv('data/suffixes.csv')"
   ]
  },
  {
   "cell_type": "code",
   "execution_count": 113,
   "metadata": {},
   "outputs": [],
   "source": [
    "df = df.filter(pl.when(pl.col('type') == 'prefix').then(pl.col('affix').is_in(prefixes)).otherwise(pl.col('affix').is_in(suffixes)))"
   ]
  },
  {
   "cell_type": "code",
   "execution_count": 114,
   "metadata": {},
   "outputs": [
    {
     "data": {
      "text/html": [
       "<div><style>\n",
       ".dataframe > thead > tr,\n",
       ".dataframe > tbody > tr {\n",
       "  text-align: right;\n",
       "  white-space: pre-wrap;\n",
       "}\n",
       "</style>\n",
       "<small>shape: (212_563, 4)</small><table border=\"1\" class=\"dataframe\"><thead><tr><th>target</th><th>stem</th><th>prefix</th><th>suffix</th></tr><tr><td>str</td><td>str</td><td>str</td><td>str</td></tr></thead><tbody><tr><td>&quot;gumwork&quot;</td><td>&quot;gum&quot;</td><td>null</td><td>&quot;work&quot;</td></tr><tr><td>&quot;repurposer&quot;</td><td>&quot;purpose&quot;</td><td>&quot;re&quot;</td><td>&quot;er&quot;</td></tr><tr><td>&quot;neuropathologic&quot;</td><td>&quot;pathology&quot;</td><td>&quot;neuro&quot;</td><td>&quot;ic&quot;</td></tr><tr><td>&quot;puncturable&quot;</td><td>&quot;puncture&quot;</td><td>null</td><td>&quot;able&quot;</td></tr><tr><td>&quot;ketoaldose&quot;</td><td>&quot;aldose&quot;</td><td>&quot;keto&quot;</td><td>null</td></tr><tr><td>&hellip;</td><td>&hellip;</td><td>&hellip;</td><td>&hellip;</td></tr><tr><td>&quot;criminalistics&quot;</td><td>&quot;crime&quot;</td><td>null</td><td>&quot;al|ist|ics&quot;</td></tr><tr><td>&quot;avifaunal&quot;</td><td>&quot;fauna&quot;</td><td>&quot;avi&quot;</td><td>&quot;al&quot;</td></tr><tr><td>&quot;postmenarchial&quot;</td><td>&quot;menarchial&quot;</td><td>&quot;post&quot;</td><td>null</td></tr><tr><td>&quot;dependent&quot;</td><td>&quot;pend&quot;</td><td>&quot;de&quot;</td><td>&quot;ent&quot;</td></tr><tr><td>&quot;diagonalization&quot;</td><td>&quot;diagonal&quot;</td><td>null</td><td>&quot;ization&quot;</td></tr></tbody></table></div>"
      ],
      "text/plain": [
       "shape: (212_563, 4)\n",
       "┌─────────────────┬────────────┬────────┬────────────┐\n",
       "│ target          ┆ stem       ┆ prefix ┆ suffix     │\n",
       "│ ---             ┆ ---        ┆ ---    ┆ ---        │\n",
       "│ str             ┆ str        ┆ str    ┆ str        │\n",
       "╞═════════════════╪════════════╪════════╪════════════╡\n",
       "│ gumwork         ┆ gum        ┆ null   ┆ work       │\n",
       "│ repurposer      ┆ purpose    ┆ re     ┆ er         │\n",
       "│ neuropathologic ┆ pathology  ┆ neuro  ┆ ic         │\n",
       "│ puncturable     ┆ puncture   ┆ null   ┆ able       │\n",
       "│ ketoaldose      ┆ aldose     ┆ keto   ┆ null       │\n",
       "│ …               ┆ …          ┆ …      ┆ …          │\n",
       "│ criminalistics  ┆ crime      ┆ null   ┆ al|ist|ics │\n",
       "│ avifaunal       ┆ fauna      ┆ avi    ┆ al         │\n",
       "│ postmenarchial  ┆ menarchial ┆ post   ┆ null       │\n",
       "│ dependent       ┆ pend       ┆ de     ┆ ent        │\n",
       "│ diagonalization ┆ diagonal   ┆ null   ┆ ization    │\n",
       "└─────────────────┴────────────┴────────┴────────────┘"
      ]
     },
     "execution_count": 114,
     "metadata": {},
     "output_type": "execute_result"
    }
   ],
   "source": [
    "cur = df.select('target', pl.col('source').alias('stem'), pl.when(pl.col('type') == 'prefix').then(pl.col('affix')).otherwise(pl.lit(None)).alias('prefix'), pl.when(pl.col('type') == 'suffix').then(pl.col('affix')).otherwise(pl.lit(None)).alias('suffix'))\n",
    "for _ in range(10):\n",
    "    cur = cur.join(df.filter(pl.col('type') == 'suffix').rename({'target': 'stem'}), on='stem', how='left').group_by('target').agg(pl.all().last()).select('target', pl.when(pl.col('affix').is_null()).then(pl.col('stem')).otherwise(pl.col('source')).alias('stem'), 'prefix', pl.concat_str(pl.col('affix'), pl.col('suffix'), separator='|', ignore_nulls=True).alias('suffix')).with_columns(suffix=pl.when(pl.col('suffix').str.len_chars() == 0).then(None).otherwise(pl.col('suffix')))\n",
    "    cur = cur.join(df.filter(pl.col('type') == 'prefix').rename({'target': 'stem'}), on='stem', how='left').group_by('target').agg(pl.all().last()).select('target', pl.when(pl.col('affix').is_null()).then(pl.col('stem')).otherwise(pl.col('source')).alias('stem'), pl.concat_str(pl.col('prefix'), pl.col('affix'), separator='|', ignore_nulls=True), 'suffix').with_columns(prefix=pl.when(pl.col('prefix').str.len_chars() == 0).then(None).otherwise(pl.col('prefix')))\n",
    "\n",
    "cur = cur.filter(~pl.col('stem').is_in(df['target']))\n",
    "cur"
   ]
  },
  {
   "cell_type": "code",
   "execution_count": 115,
   "metadata": {},
   "outputs": [],
   "source": [
    "cur.sort(by='target').write_csv('data/dictionary.csv')"
   ]
  },
  {
   "cell_type": "code",
   "execution_count": 26,
   "metadata": {},
   "outputs": [
    {
     "data": {
      "text/html": [
       "<div><style>\n",
       ".dataframe > thead > tr,\n",
       ".dataframe > tbody > tr {\n",
       "  text-align: right;\n",
       "  white-space: pre-wrap;\n",
       "}\n",
       "</style>\n",
       "<small>shape: (10, 4)</small><table border=\"1\" class=\"dataframe\"><thead><tr><th>target</th><th>stem</th><th>prefix</th><th>suffix</th></tr><tr><td>str</td><td>str</td><td>str</td><td>str</td></tr></thead><tbody><tr><td>&quot;lysoglycerophospholipid&quot;</td><td>&quot;lipid&quot;</td><td>&quot;lyso|glycero|phospho&quot;</td><td>null</td></tr><tr><td>&quot;pentahydroxyanthraquinone&quot;</td><td>&quot;quinone&quot;</td><td>&quot;penta|hydroxy|anthra&quot;</td><td>null</td></tr><tr><td>&quot;heptahydroxyanthraquinone&quot;</td><td>&quot;quinone&quot;</td><td>&quot;hepta|hydroxy|anthra&quot;</td><td>null</td></tr><tr><td>&quot;immunoelectrochemiluminescence&quot;</td><td>&quot;luminescent&quot;</td><td>&quot;immuno|electro|chemi&quot;</td><td>&quot;ence&quot;</td></tr><tr><td>&quot;tetrahydroxyanthraquinone&quot;</td><td>&quot;quinone&quot;</td><td>&quot;tetra|hydroxy|anthra&quot;</td><td>null</td></tr><tr><td>&quot;immunoelectrochemoluminescence&quot;</td><td>&quot;luminescent&quot;</td><td>&quot;immuno|electro|chemo&quot;</td><td>&quot;ence&quot;</td></tr><tr><td>&quot;electromagnetohydrodynamics&quot;</td><td>&quot;dynamic&quot;</td><td>&quot;electro|magneto|hydro&quot;</td><td>&quot;s&quot;</td></tr><tr><td>&quot;electromagnetohydrodynamic&quot;</td><td>&quot;dynamic&quot;</td><td>&quot;electro|magneto|hydro&quot;</td><td>null</td></tr><tr><td>&quot;hydroxycyclophosphamide&quot;</td><td>&quot;ammonia&quot;</td><td>&quot;hydroxy|cyclo|phospho&quot;</td><td>&quot;ide&quot;</td></tr><tr><td>&quot;counterimmunoelectrophoresis&quot;</td><td>&quot;phoresis&quot;</td><td>&quot;counter|immuno|electro&quot;</td><td>null</td></tr></tbody></table></div>"
      ],
      "text/plain": [
       "shape: (10, 4)\n",
       "┌────────────────────────────────┬─────────────┬────────────────────────┬────────┐\n",
       "│ target                         ┆ stem        ┆ prefix                 ┆ suffix │\n",
       "│ ---                            ┆ ---         ┆ ---                    ┆ ---    │\n",
       "│ str                            ┆ str         ┆ str                    ┆ str    │\n",
       "╞════════════════════════════════╪═════════════╪════════════════════════╪════════╡\n",
       "│ lysoglycerophospholipid        ┆ lipid       ┆ lyso|glycero|phospho   ┆ null   │\n",
       "│ pentahydroxyanthraquinone      ┆ quinone     ┆ penta|hydroxy|anthra   ┆ null   │\n",
       "│ heptahydroxyanthraquinone      ┆ quinone     ┆ hepta|hydroxy|anthra   ┆ null   │\n",
       "│ immunoelectrochemiluminescence ┆ luminescent ┆ immuno|electro|chemi   ┆ ence   │\n",
       "│ tetrahydroxyanthraquinone      ┆ quinone     ┆ tetra|hydroxy|anthra   ┆ null   │\n",
       "│ immunoelectrochemoluminescence ┆ luminescent ┆ immuno|electro|chemo   ┆ ence   │\n",
       "│ electromagnetohydrodynamics    ┆ dynamic     ┆ electro|magneto|hydro  ┆ s      │\n",
       "│ electromagnetohydrodynamic     ┆ dynamic     ┆ electro|magneto|hydro  ┆ null   │\n",
       "│ hydroxycyclophosphamide        ┆ ammonia     ┆ hydroxy|cyclo|phospho  ┆ ide    │\n",
       "│ counterimmunoelectrophoresis   ┆ phoresis    ┆ counter|immuno|electro ┆ null   │\n",
       "└────────────────────────────────┴─────────────┴────────────────────────┴────────┘"
      ]
     },
     "execution_count": 26,
     "metadata": {},
     "output_type": "execute_result"
    }
   ],
   "source": [
    "cur.sort(by=pl.col('prefix').str.len_chars()).tail(10)"
   ]
  },
  {
   "cell_type": "code",
   "execution_count": 15,
   "metadata": {},
   "outputs": [
    {
     "data": {
      "text/html": [
       "<div><style>\n",
       ".dataframe > thead > tr,\n",
       ".dataframe > tbody > tr {\n",
       "  text-align: right;\n",
       "  white-space: pre-wrap;\n",
       "}\n",
       "</style>\n",
       "<small>shape: (10, 4)</small><table border=\"1\" class=\"dataframe\"><thead><tr><th>target</th><th>stem</th><th>prefix</th><th>suffix</th></tr><tr><td>str</td><td>str</td><td>str</td><td>str</td></tr></thead><tbody><tr><td>&quot;differentiatedly&quot;</td><td>&quot;differ&quot;</td><td>null</td><td>&quot;ent|ence|ial|ate|ed|ly&quot;</td></tr><tr><td>&quot;scintigraphically&quot;</td><td>&quot;scintilla&quot;</td><td>null</td><td>&quot;ate|ion|graphy|ic|ally&quot;</td></tr><tr><td>&quot;existentialistically&quot;</td><td>&quot;exist&quot;</td><td>null</td><td>&quot;ent|ence|ial|istic|ally&quot;</td></tr><tr><td>&quot;differentiational&quot;</td><td>&quot;differ&quot;</td><td>null</td><td>&quot;ent|ence|ial|ate|ion|al&quot;</td></tr><tr><td>&quot;differentiatedness&quot;</td><td>&quot;differ&quot;</td><td>null</td><td>&quot;ent|ence|ial|ate|ed|ness&quot;</td></tr><tr><td>&quot;differentiably&quot;</td><td>&quot;differ&quot;</td><td>null</td><td>&quot;ent|ence|ial|ate|able|ly&quot;</td></tr><tr><td>&quot;ultradifferentiability&quot;</td><td>&quot;differ&quot;</td><td>&quot;ultra&quot;</td><td>&quot;ent|ence|ial|ate|able|ity&quot;</td></tr><tr><td>&quot;differentiability&quot;</td><td>&quot;differ&quot;</td><td>null</td><td>&quot;ent|ence|ial|ate|able|ity&quot;</td></tr><tr><td>&quot;undifferentiability&quot;</td><td>&quot;differ&quot;</td><td>&quot;un&quot;</td><td>&quot;ent|ence|ial|ate|able|ity&quot;</td></tr><tr><td>&quot;nondifferentiability&quot;</td><td>&quot;differ&quot;</td><td>&quot;non&quot;</td><td>&quot;ent|ence|ial|ate|able|ity&quot;</td></tr></tbody></table></div>"
      ],
      "text/plain": [
       "shape: (10, 4)\n",
       "┌────────────────────────┬───────────┬────────┬───────────────────────────┐\n",
       "│ target                 ┆ stem      ┆ prefix ┆ suffix                    │\n",
       "│ ---                    ┆ ---       ┆ ---    ┆ ---                       │\n",
       "│ str                    ┆ str       ┆ str    ┆ str                       │\n",
       "╞════════════════════════╪═══════════╪════════╪═══════════════════════════╡\n",
       "│ differentiatedly       ┆ differ    ┆ null   ┆ ent|ence|ial|ate|ed|ly    │\n",
       "│ scintigraphically      ┆ scintilla ┆ null   ┆ ate|ion|graphy|ic|ally    │\n",
       "│ existentialistically   ┆ exist     ┆ null   ┆ ent|ence|ial|istic|ally   │\n",
       "│ differentiational      ┆ differ    ┆ null   ┆ ent|ence|ial|ate|ion|al   │\n",
       "│ differentiatedness     ┆ differ    ┆ null   ┆ ent|ence|ial|ate|ed|ness  │\n",
       "│ differentiably         ┆ differ    ┆ null   ┆ ent|ence|ial|ate|able|ly  │\n",
       "│ ultradifferentiability ┆ differ    ┆ ultra  ┆ ent|ence|ial|ate|able|ity │\n",
       "│ differentiability      ┆ differ    ┆ null   ┆ ent|ence|ial|ate|able|ity │\n",
       "│ undifferentiability    ┆ differ    ┆ un     ┆ ent|ence|ial|ate|able|ity │\n",
       "│ nondifferentiability   ┆ differ    ┆ non    ┆ ent|ence|ial|ate|able|ity │\n",
       "└────────────────────────┴───────────┴────────┴───────────────────────────┘"
      ]
     },
     "execution_count": 15,
     "metadata": {},
     "output_type": "execute_result"
    }
   ],
   "source": [
    "cur.sort(by=pl.col('suffix').str.len_chars()).tail(10)"
   ]
  },
  {
   "cell_type": "code",
   "execution_count": null,
   "metadata": {},
   "outputs": [
    {
     "data": {
      "text/html": [
       "<div><style>\n",
       ".dataframe > thead > tr,\n",
       ".dataframe > tbody > tr {\n",
       "  text-align: right;\n",
       "  white-space: pre-wrap;\n",
       "}\n",
       "</style>\n",
       "<small>shape: (2_254, 2)</small><table border=\"1\" class=\"dataframe\"><thead><tr><th>affix</th><th>count</th></tr><tr><td>str</td><td>u32</td></tr></thead><tbody><tr><td>&quot;ly&quot;</td><td>13565</td></tr><tr><td>&quot;un&quot;</td><td>10677</td></tr><tr><td>&quot;ness&quot;</td><td>9505</td></tr><tr><td>&quot;non&quot;</td><td>9354</td></tr><tr><td>&quot;er&quot;</td><td>7911</td></tr><tr><td>&hellip;</td><td>&hellip;</td></tr><tr><td>&quot;ense&quot;</td><td>1</td></tr><tr><td>&quot;pupillo&quot;</td><td>1</td></tr><tr><td>&quot;uran&quot;</td><td>1</td></tr><tr><td>&quot;dromo&quot;</td><td>1</td></tr><tr><td>&quot;oxifene&quot;</td><td>1</td></tr></tbody></table></div>"
      ],
      "text/plain": [
       "shape: (2_254, 2)\n",
       "┌─────────┬───────┐\n",
       "│ affix   ┆ count │\n",
       "│ ---     ┆ ---   │\n",
       "│ str     ┆ u32   │\n",
       "╞═════════╪═══════╡\n",
       "│ ly      ┆ 13565 │\n",
       "│ un      ┆ 10677 │\n",
       "│ ness    ┆ 9505  │\n",
       "│ non     ┆ 9354  │\n",
       "│ er      ┆ 7911  │\n",
       "│ …       ┆ …     │\n",
       "│ ense    ┆ 1     │\n",
       "│ pupillo ┆ 1     │\n",
       "│ uran    ┆ 1     │\n",
       "│ dromo   ┆ 1     │\n",
       "│ oxifene ┆ 1     │\n",
       "└─────────┴───────┘"
      ]
     },
     "execution_count": 20,
     "metadata": {},
     "output_type": "execute_result"
    }
   ],
   "source": [
    "affixes = df['affix'].value_counts().sort(by='count', descending=True)\n",
    "affixes"
   ]
  }
 ],
 "metadata": {
  "kernelspec": {
   "display_name": "Python 3",
   "language": "python",
   "name": "python3"
  },
  "language_info": {
   "codemirror_mode": {
    "name": "ipython",
    "version": 3
   },
   "file_extension": ".py",
   "mimetype": "text/x-python",
   "name": "python",
   "nbconvert_exporter": "python",
   "pygments_lexer": "ipython3",
   "version": "3.12.6"
  }
 },
 "nbformat": 4,
 "nbformat_minor": 2
}
