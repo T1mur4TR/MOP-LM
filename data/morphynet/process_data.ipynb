{
 "cells": [
  {
   "cell_type": "code",
   "execution_count": 1,
   "metadata": {},
   "outputs": [],
   "source": [
    "import polars as pl\n",
    "\n",
    "df = pl.read_csv('eng.derivational.v1.tsv', separator='\\t', has_header=False, schema={\"source\": pl.String, \"target\": pl.String, \"source POS\": pl.String, \"target POS\": pl.String, \"affix\": pl.String, \"type\": pl.String})"
   ]
  },
  {
   "cell_type": "code",
   "execution_count": 2,
   "metadata": {},
   "outputs": [],
   "source": [
    "df = df.select(pl.col('target').str.to_lowercase(), pl.col('source').str.to_lowercase(), pl.col('affix').str.to_lowercase().str.replace('#etymology_\\\\d', ''), 'type')\n",
    "df = df.filter((pl.col('target') != pl.col('source')) & ~pl.col('target').str.contains('[^a-z]') & ~pl.col('source').str.contains('[^a-z]'))"
   ]
  },
  {
   "cell_type": "code",
   "execution_count": null,
   "metadata": {},
   "outputs": [],
   "source": [
    "min_prefix_count = 5\n",
    "prefixes = df.filter((pl.col('type') == 'prefix') & (pl.col('affix').str.len_chars() > 1) & ~pl.col('affix').str.contains('[^a-z]')).select(pl.col('affix').alias('prefix')).group_by('prefix').agg(pl.len()).filter(pl.col('len') >= min_prefix_count).select('prefix').sort(by='prefix')\n",
    "prefixes.write_csv('prefixes.csv')"
   ]
  },
  {
   "cell_type": "code",
   "execution_count": null,
   "metadata": {},
   "outputs": [],
   "source": [
    "min_suffix_count = 5\n",
    "suffixes = df.filter((pl.col('type') == 'suffix') & ~pl.col('affix').str.contains('[^a-z]')).select(pl.col('affix').alias('suffix')).group_by('suffix').agg(pl.len()).filter(pl.col('len') >= min_suffix_count).select('suffix')\n",
    "suffixes = pl.concat([suffixes, \n",
    "                     suffixes.filter(pl.col('suffix').str.tail(1).is_in(('e', 'y', 'i'))).select(pl.col('suffix').str.head(-1)),\n",
    "                     suffixes.filter(pl.col('suffix').str.tail(1) == 'y').select(pl.col('suffix').str.head(-1) + 'i')\n",
    "                    ]).filter((pl.col('suffix').str.len_chars() > 1) | (pl.col('suffix').is_in(('y', 's', 'i')))).unique().sort(by='suffix')\n",
    "suffixes.write_csv('suffixes.csv')"
   ]
  },
  {
   "cell_type": "code",
   "execution_count": 6,
   "metadata": {},
   "outputs": [],
   "source": [
    "df = df.filter(pl.when(pl.col('type') == 'prefix').then(pl.col('affix').is_in(prefixes)).otherwise(pl.col('affix').is_in(suffixes)))"
   ]
  },
  {
   "cell_type": "code",
   "execution_count": 7,
   "metadata": {},
   "outputs": [],
   "source": [
    "forbidden_words = ['is']\n",
    "df = df.filter(~pl.col('target').is_in(forbidden_words))"
   ]
  },
  {
   "cell_type": "code",
   "execution_count": 8,
   "metadata": {},
   "outputs": [
    {
     "data": {
      "text/html": [
       "<div><style>\n",
       ".dataframe > thead > tr,\n",
       ".dataframe > tbody > tr {\n",
       "  text-align: right;\n",
       "  white-space: pre-wrap;\n",
       "}\n",
       "</style>\n",
       "<small>shape: (212_235, 4)</small><table border=\"1\" class=\"dataframe\"><thead><tr><th>target</th><th>stem</th><th>prefix</th><th>suffix</th></tr><tr><td>str</td><td>str</td><td>str</td><td>str</td></tr></thead><tbody><tr><td>&quot;antichlorotic&quot;</td><td>&quot;chlorosis&quot;</td><td>&quot;anti&quot;</td><td>&quot;ic&quot;</td></tr><tr><td>&quot;stalkiness&quot;</td><td>&quot;stalk&quot;</td><td>null</td><td>&quot;y|ness&quot;</td></tr><tr><td>&quot;worldlike&quot;</td><td>&quot;world&quot;</td><td>null</td><td>&quot;like&quot;</td></tr><tr><td>&quot;ketoglutaric&quot;</td><td>&quot;glutaric&quot;</td><td>&quot;keto&quot;</td><td>null</td></tr><tr><td>&quot;gamification&quot;</td><td>&quot;game&quot;</td><td>null</td><td>&quot;ification&quot;</td></tr><tr><td>&hellip;</td><td>&hellip;</td><td>&hellip;</td><td>&hellip;</td></tr><tr><td>&quot;brazenness&quot;</td><td>&quot;brass&quot;</td><td>null</td><td>&quot;en|ness&quot;</td></tr><tr><td>&quot;thermoclinic&quot;</td><td>&quot;thermocline&quot;</td><td>null</td><td>&quot;ic&quot;</td></tr><tr><td>&quot;polyornithine&quot;</td><td>&quot;ornithine&quot;</td><td>&quot;poly&quot;</td><td>null</td></tr><tr><td>&quot;sublegal&quot;</td><td>&quot;legal&quot;</td><td>&quot;sub&quot;</td><td>null</td></tr><tr><td>&quot;spectromorphometry&quot;</td><td>&quot;morphometry&quot;</td><td>&quot;spectro&quot;</td><td>null</td></tr></tbody></table></div>"
      ],
      "text/plain": [
       "shape: (212_235, 4)\n",
       "┌────────────────────┬─────────────┬─────────┬───────────┐\n",
       "│ target             ┆ stem        ┆ prefix  ┆ suffix    │\n",
       "│ ---                ┆ ---         ┆ ---     ┆ ---       │\n",
       "│ str                ┆ str         ┆ str     ┆ str       │\n",
       "╞════════════════════╪═════════════╪═════════╪═══════════╡\n",
       "│ antichlorotic      ┆ chlorosis   ┆ anti    ┆ ic        │\n",
       "│ stalkiness         ┆ stalk       ┆ null    ┆ y|ness    │\n",
       "│ worldlike          ┆ world       ┆ null    ┆ like      │\n",
       "│ ketoglutaric       ┆ glutaric    ┆ keto    ┆ null      │\n",
       "│ gamification       ┆ game        ┆ null    ┆ ification │\n",
       "│ …                  ┆ …           ┆ …       ┆ …         │\n",
       "│ brazenness         ┆ brass       ┆ null    ┆ en|ness   │\n",
       "│ thermoclinic       ┆ thermocline ┆ null    ┆ ic        │\n",
       "│ polyornithine      ┆ ornithine   ┆ poly    ┆ null      │\n",
       "│ sublegal           ┆ legal       ┆ sub     ┆ null      │\n",
       "│ spectromorphometry ┆ morphometry ┆ spectro ┆ null      │\n",
       "└────────────────────┴─────────────┴─────────┴───────────┘"
      ]
     },
     "execution_count": 8,
     "metadata": {},
     "output_type": "execute_result"
    }
   ],
   "source": [
    "cur = df.select('target', pl.col('source').alias('stem'), pl.when(pl.col('type') == 'prefix').then(pl.col('affix')).otherwise(pl.lit(None)).alias('prefix'), pl.when(pl.col('type') == 'suffix').then(pl.col('affix')).otherwise(pl.lit(None)).alias('suffix'))\n",
    "for _ in range(10):\n",
    "    cur = cur.join(df.filter(pl.col('type') == 'suffix').rename({'target': 'stem'}), on='stem', how='left').group_by('target').agg(pl.all().last()).select('target', pl.when(pl.col('affix').is_null()).then(pl.col('stem')).otherwise(pl.col('source')).alias('stem'), 'prefix', pl.concat_str(pl.col('affix'), pl.col('suffix'), separator='|', ignore_nulls=True).alias('suffix')).with_columns(suffix=pl.when(pl.col('suffix').str.len_chars() == 0).then(None).otherwise(pl.col('suffix')))\n",
    "    cur = cur.join(df.filter(pl.col('type') == 'prefix').rename({'target': 'stem'}), on='stem', how='left').group_by('target').agg(pl.all().last()).select('target', pl.when(pl.col('affix').is_null()).then(pl.col('stem')).otherwise(pl.col('source')).alias('stem'), pl.concat_str(pl.col('prefix'), pl.col('affix'), separator='|', ignore_nulls=True), 'suffix').with_columns(prefix=pl.when(pl.col('prefix').str.len_chars() == 0).then(None).otherwise(pl.col('prefix')))\n",
    "\n",
    "cur = cur.filter(~pl.col('stem').is_in(df['target']))\n",
    "cur"
   ]
  },
  {
   "cell_type": "code",
   "execution_count": null,
   "metadata": {},
   "outputs": [],
   "source": [
    "#cur.sort(by='target').write_csv('dictionary.csv')"
   ]
  },
  {
   "cell_type": "code",
   "execution_count": 10,
   "metadata": {},
   "outputs": [
    {
     "data": {
      "text/html": [
       "<div><style>\n",
       ".dataframe > thead > tr,\n",
       ".dataframe > tbody > tr {\n",
       "  text-align: right;\n",
       "  white-space: pre-wrap;\n",
       "}\n",
       "</style>\n",
       "<small>shape: (10, 4)</small><table border=\"1\" class=\"dataframe\"><thead><tr><th>target</th><th>stem</th><th>prefix</th><th>suffix</th></tr><tr><td>str</td><td>str</td><td>str</td><td>str</td></tr></thead><tbody><tr><td>&quot;pentahydroxyanthraquinone&quot;</td><td>&quot;quinone&quot;</td><td>&quot;penta|hydroxy|anthra&quot;</td><td>null</td></tr><tr><td>&quot;quasihemidemisemiquaver&quot;</td><td>&quot;quave&quot;</td><td>&quot;quasi|hemi|demi|semi&quot;</td><td>&quot;er&quot;</td></tr><tr><td>&quot;radioimmunoelectrophoresis&quot;</td><td>&quot;phoresis&quot;</td><td>&quot;radio|immuno|electro&quot;</td><td>null</td></tr><tr><td>&quot;tetrahydroxyanthraquinone&quot;</td><td>&quot;quinone&quot;</td><td>&quot;tetra|hydroxy|anthra&quot;</td><td>null</td></tr><tr><td>&quot;lysoglycerophospholipid&quot;</td><td>&quot;lipid&quot;</td><td>&quot;lyso|glycero|phospho&quot;</td><td>null</td></tr><tr><td>&quot;heptahydroxyanthraquinone&quot;</td><td>&quot;quinone&quot;</td><td>&quot;hepta|hydroxy|anthra&quot;</td><td>null</td></tr><tr><td>&quot;electromagnetohydrodynamics&quot;</td><td>&quot;dynamic&quot;</td><td>&quot;electro|magneto|hydro&quot;</td><td>&quot;s&quot;</td></tr><tr><td>&quot;electromagnetohydrodynamic&quot;</td><td>&quot;dynamic&quot;</td><td>&quot;electro|magneto|hydro&quot;</td><td>null</td></tr><tr><td>&quot;hydroxycyclophosphamide&quot;</td><td>&quot;ammonia&quot;</td><td>&quot;hydroxy|cyclo|phospho&quot;</td><td>&quot;ide&quot;</td></tr><tr><td>&quot;counterimmunoelectrophoresis&quot;</td><td>&quot;phoresis&quot;</td><td>&quot;counter|immuno|electro&quot;</td><td>null</td></tr></tbody></table></div>"
      ],
      "text/plain": [
       "shape: (10, 4)\n",
       "┌──────────────────────────────┬──────────┬────────────────────────┬────────┐\n",
       "│ target                       ┆ stem     ┆ prefix                 ┆ suffix │\n",
       "│ ---                          ┆ ---      ┆ ---                    ┆ ---    │\n",
       "│ str                          ┆ str      ┆ str                    ┆ str    │\n",
       "╞══════════════════════════════╪══════════╪════════════════════════╪════════╡\n",
       "│ pentahydroxyanthraquinone    ┆ quinone  ┆ penta|hydroxy|anthra   ┆ null   │\n",
       "│ quasihemidemisemiquaver      ┆ quave    ┆ quasi|hemi|demi|semi   ┆ er     │\n",
       "│ radioimmunoelectrophoresis   ┆ phoresis ┆ radio|immuno|electro   ┆ null   │\n",
       "│ tetrahydroxyanthraquinone    ┆ quinone  ┆ tetra|hydroxy|anthra   ┆ null   │\n",
       "│ lysoglycerophospholipid      ┆ lipid    ┆ lyso|glycero|phospho   ┆ null   │\n",
       "│ heptahydroxyanthraquinone    ┆ quinone  ┆ hepta|hydroxy|anthra   ┆ null   │\n",
       "│ electromagnetohydrodynamics  ┆ dynamic  ┆ electro|magneto|hydro  ┆ s      │\n",
       "│ electromagnetohydrodynamic   ┆ dynamic  ┆ electro|magneto|hydro  ┆ null   │\n",
       "│ hydroxycyclophosphamide      ┆ ammonia  ┆ hydroxy|cyclo|phospho  ┆ ide    │\n",
       "│ counterimmunoelectrophoresis ┆ phoresis ┆ counter|immuno|electro ┆ null   │\n",
       "└──────────────────────────────┴──────────┴────────────────────────┴────────┘"
      ]
     },
     "execution_count": 10,
     "metadata": {},
     "output_type": "execute_result"
    }
   ],
   "source": [
    "cur.sort(by=pl.col('prefix').str.len_chars()).tail(10)"
   ]
  },
  {
   "cell_type": "code",
   "execution_count": 15,
   "metadata": {},
   "outputs": [
    {
     "data": {
      "text/html": [
       "<div><style>\n",
       ".dataframe > thead > tr,\n",
       ".dataframe > tbody > tr {\n",
       "  text-align: right;\n",
       "  white-space: pre-wrap;\n",
       "}\n",
       "</style>\n",
       "<small>shape: (10, 4)</small><table border=\"1\" class=\"dataframe\"><thead><tr><th>target</th><th>stem</th><th>prefix</th><th>suffix</th></tr><tr><td>str</td><td>str</td><td>str</td><td>str</td></tr></thead><tbody><tr><td>&quot;differentiatedly&quot;</td><td>&quot;differ&quot;</td><td>null</td><td>&quot;ent|ence|ial|ate|ed|ly&quot;</td></tr><tr><td>&quot;scintigraphically&quot;</td><td>&quot;scintilla&quot;</td><td>null</td><td>&quot;ate|ion|graphy|ic|ally&quot;</td></tr><tr><td>&quot;existentialistically&quot;</td><td>&quot;exist&quot;</td><td>null</td><td>&quot;ent|ence|ial|istic|ally&quot;</td></tr><tr><td>&quot;differentiational&quot;</td><td>&quot;differ&quot;</td><td>null</td><td>&quot;ent|ence|ial|ate|ion|al&quot;</td></tr><tr><td>&quot;differentiatedness&quot;</td><td>&quot;differ&quot;</td><td>null</td><td>&quot;ent|ence|ial|ate|ed|ness&quot;</td></tr><tr><td>&quot;differentiably&quot;</td><td>&quot;differ&quot;</td><td>null</td><td>&quot;ent|ence|ial|ate|able|ly&quot;</td></tr><tr><td>&quot;ultradifferentiability&quot;</td><td>&quot;differ&quot;</td><td>&quot;ultra&quot;</td><td>&quot;ent|ence|ial|ate|able|ity&quot;</td></tr><tr><td>&quot;differentiability&quot;</td><td>&quot;differ&quot;</td><td>null</td><td>&quot;ent|ence|ial|ate|able|ity&quot;</td></tr><tr><td>&quot;undifferentiability&quot;</td><td>&quot;differ&quot;</td><td>&quot;un&quot;</td><td>&quot;ent|ence|ial|ate|able|ity&quot;</td></tr><tr><td>&quot;nondifferentiability&quot;</td><td>&quot;differ&quot;</td><td>&quot;non&quot;</td><td>&quot;ent|ence|ial|ate|able|ity&quot;</td></tr></tbody></table></div>"
      ],
      "text/plain": [
       "shape: (10, 4)\n",
       "┌────────────────────────┬───────────┬────────┬───────────────────────────┐\n",
       "│ target                 ┆ stem      ┆ prefix ┆ suffix                    │\n",
       "│ ---                    ┆ ---       ┆ ---    ┆ ---                       │\n",
       "│ str                    ┆ str       ┆ str    ┆ str                       │\n",
       "╞════════════════════════╪═══════════╪════════╪═══════════════════════════╡\n",
       "│ differentiatedly       ┆ differ    ┆ null   ┆ ent|ence|ial|ate|ed|ly    │\n",
       "│ scintigraphically      ┆ scintilla ┆ null   ┆ ate|ion|graphy|ic|ally    │\n",
       "│ existentialistically   ┆ exist     ┆ null   ┆ ent|ence|ial|istic|ally   │\n",
       "│ differentiational      ┆ differ    ┆ null   ┆ ent|ence|ial|ate|ion|al   │\n",
       "│ differentiatedness     ┆ differ    ┆ null   ┆ ent|ence|ial|ate|ed|ness  │\n",
       "│ differentiably         ┆ differ    ┆ null   ┆ ent|ence|ial|ate|able|ly  │\n",
       "│ ultradifferentiability ┆ differ    ┆ ultra  ┆ ent|ence|ial|ate|able|ity │\n",
       "│ differentiability      ┆ differ    ┆ null   ┆ ent|ence|ial|ate|able|ity │\n",
       "│ undifferentiability    ┆ differ    ┆ un     ┆ ent|ence|ial|ate|able|ity │\n",
       "│ nondifferentiability   ┆ differ    ┆ non    ┆ ent|ence|ial|ate|able|ity │\n",
       "└────────────────────────┴───────────┴────────┴───────────────────────────┘"
      ]
     },
     "execution_count": 15,
     "metadata": {},
     "output_type": "execute_result"
    }
   ],
   "source": [
    "cur.sort(by=pl.col('suffix').str.len_chars()).tail(10)"
   ]
  },
  {
   "cell_type": "code",
   "execution_count": null,
   "metadata": {},
   "outputs": [
    {
     "data": {
      "text/html": [
       "<div><style>\n",
       ".dataframe > thead > tr,\n",
       ".dataframe > tbody > tr {\n",
       "  text-align: right;\n",
       "  white-space: pre-wrap;\n",
       "}\n",
       "</style>\n",
       "<small>shape: (2_254, 2)</small><table border=\"1\" class=\"dataframe\"><thead><tr><th>affix</th><th>count</th></tr><tr><td>str</td><td>u32</td></tr></thead><tbody><tr><td>&quot;ly&quot;</td><td>13565</td></tr><tr><td>&quot;un&quot;</td><td>10677</td></tr><tr><td>&quot;ness&quot;</td><td>9505</td></tr><tr><td>&quot;non&quot;</td><td>9354</td></tr><tr><td>&quot;er&quot;</td><td>7911</td></tr><tr><td>&hellip;</td><td>&hellip;</td></tr><tr><td>&quot;ense&quot;</td><td>1</td></tr><tr><td>&quot;pupillo&quot;</td><td>1</td></tr><tr><td>&quot;uran&quot;</td><td>1</td></tr><tr><td>&quot;dromo&quot;</td><td>1</td></tr><tr><td>&quot;oxifene&quot;</td><td>1</td></tr></tbody></table></div>"
      ],
      "text/plain": [
       "shape: (2_254, 2)\n",
       "┌─────────┬───────┐\n",
       "│ affix   ┆ count │\n",
       "│ ---     ┆ ---   │\n",
       "│ str     ┆ u32   │\n",
       "╞═════════╪═══════╡\n",
       "│ ly      ┆ 13565 │\n",
       "│ un      ┆ 10677 │\n",
       "│ ness    ┆ 9505  │\n",
       "│ non     ┆ 9354  │\n",
       "│ er      ┆ 7911  │\n",
       "│ …       ┆ …     │\n",
       "│ ense    ┆ 1     │\n",
       "│ pupillo ┆ 1     │\n",
       "│ uran    ┆ 1     │\n",
       "│ dromo   ┆ 1     │\n",
       "│ oxifene ┆ 1     │\n",
       "└─────────┴───────┘"
      ]
     },
     "execution_count": 20,
     "metadata": {},
     "output_type": "execute_result"
    }
   ],
   "source": [
    "affixes = df['affix'].value_counts().sort(by='count', descending=True)\n",
    "affixes"
   ]
  }
 ],
 "metadata": {
  "kernelspec": {
   "display_name": "Python 3",
   "language": "python",
   "name": "python3"
  },
  "language_info": {
   "codemirror_mode": {
    "name": "ipython",
    "version": 3
   },
   "file_extension": ".py",
   "mimetype": "text/x-python",
   "name": "python",
   "nbconvert_exporter": "python",
   "pygments_lexer": "ipython3",
   "version": "3.12.6"
  }
 },
 "nbformat": 4,
 "nbformat_minor": 2
}
